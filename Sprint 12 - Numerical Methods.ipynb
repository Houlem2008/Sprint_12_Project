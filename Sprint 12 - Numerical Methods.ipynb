{
 "cells": [
  {
   "cell_type": "markdown",
   "metadata": {},
   "source": [
    "<div class=\"alert alert-success\">\n",
    "<b>Reviewer's comment V2</b>\n",
    "\n",
    "Thanks for taking the time to improve the project! I left replies to your comments below. The project is now accepted, and you can move on to the next sprint. Keep up the good work! \n",
    "\n",
    "</div>"
   ]
  },
  {
   "cell_type": "markdown",
   "metadata": {},
   "source": [
    "**Review**\n",
    "\n",
    "Hi, my name is Dmitry and I will be reviewing your project.\n",
    "  \n",
    "You can find my comments in colored markdown cells:\n",
    "  \n",
    "<div class=\"alert alert-success\">\n",
    "  If everything is done successfully.\n",
    "</div>\n",
    "  \n",
    "<div class=\"alert alert-warning\">\n",
    "  If I have some (optional) suggestions, or questions to think about, or general comments.\n",
    "</div>\n",
    "  \n",
    "<div class=\"alert alert-danger\">\n",
    "  If a section requires some corrections. Work can't be accepted with red comments.\n",
    "</div>\n",
    "  \n",
    "Please don't remove my comments, as it will make further review iterations much harder for me.\n",
    "  \n",
    "Feel free to reply to my comments or ask questions using the following template:\n",
    "  \n",
    "<div class=\"alert alert-info\">\n",
    "  For your comments and questions.\n",
    "</div>\n",
    "  \n",
    "First of all, thank you for turning in the project! You did a great job overall, but there is one problem that needs to be fixed before the project is accepted. Let me know if you have any questions!"
   ]
  },
  {
   "cell_type": "markdown",
   "metadata": {},
   "source": [
    "Rusty Bargain used car sales service is developing an app to attract new customers. In that app, you can quickly find out the market value of your car. You have access to historical data: technical specifications, trim versions, and prices. You need to build the model to determine the value. \n",
    "\n",
    "Rusty Bargain is interested in:\n",
    "\n",
    "- the quality of the prediction;\n",
    "- the speed of the prediction;\n",
    "- the time required for training"
   ]
  },
  {
   "cell_type": "markdown",
   "metadata": {},
   "source": [
    "## Data preparation"
   ]
  },
  {
   "cell_type": "markdown",
   "metadata": {},
   "source": [
    "### Import Data and Libraries"
   ]
  },
  {
   "cell_type": "code",
   "execution_count": 1,
   "metadata": {},
   "outputs": [],
   "source": [
    "import pandas as pd\n",
    "import numpy as np\n",
    "import matplotlib.pyplot as plt\n",
    "\n",
    "from sklearn.model_selection import train_test_split\n",
    "from sklearn.metrics import mean_squared_error\n",
    "from sklearn.linear_model import LinearRegression\n",
    "from sklearn.tree import DecisionTreeRegressor\n",
    "from sklearn.ensemble import RandomForestRegressor\n",
    "from sklearn.metrics import make_scorer\n",
    "from sklearn.preprocessing import StandardScaler\n",
    "\n",
    "from lightgbm import LGBMRegressor\n",
    "from catboost import CatBoostRegressor, Pool\n",
    "import xgboost as xgb"
   ]
  },
  {
   "cell_type": "code",
   "execution_count": 2,
   "metadata": {},
   "outputs": [],
   "source": [
    "df = pd.read_csv('/datasets/car_data.csv')"
   ]
  },
  {
   "cell_type": "markdown",
   "metadata": {},
   "source": [
    "### Overview of Data"
   ]
  },
  {
   "cell_type": "code",
   "execution_count": 3,
   "metadata": {},
   "outputs": [
    {
     "name": "stdout",
     "output_type": "stream",
     "text": [
      "<class 'pandas.core.frame.DataFrame'>\n",
      "RangeIndex: 354369 entries, 0 to 354368\n",
      "Data columns (total 16 columns):\n",
      " #   Column             Non-Null Count   Dtype \n",
      "---  ------             --------------   ----- \n",
      " 0   DateCrawled        354369 non-null  object\n",
      " 1   Price              354369 non-null  int64 \n",
      " 2   VehicleType        316879 non-null  object\n",
      " 3   RegistrationYear   354369 non-null  int64 \n",
      " 4   Gearbox            334536 non-null  object\n",
      " 5   Power              354369 non-null  int64 \n",
      " 6   Model              334664 non-null  object\n",
      " 7   Mileage            354369 non-null  int64 \n",
      " 8   RegistrationMonth  354369 non-null  int64 \n",
      " 9   FuelType           321474 non-null  object\n",
      " 10  Brand              354369 non-null  object\n",
      " 11  NotRepaired        283215 non-null  object\n",
      " 12  DateCreated        354369 non-null  object\n",
      " 13  NumberOfPictures   354369 non-null  int64 \n",
      " 14  PostalCode         354369 non-null  int64 \n",
      " 15  LastSeen           354369 non-null  object\n",
      "dtypes: int64(7), object(9)\n",
      "memory usage: 43.3+ MB\n"
     ]
    }
   ],
   "source": [
    "df.info()"
   ]
  },
  {
   "cell_type": "code",
   "execution_count": 4,
   "metadata": {},
   "outputs": [
    {
     "data": {
      "text/html": [
       "<div>\n",
       "<style scoped>\n",
       "    .dataframe tbody tr th:only-of-type {\n",
       "        vertical-align: middle;\n",
       "    }\n",
       "\n",
       "    .dataframe tbody tr th {\n",
       "        vertical-align: top;\n",
       "    }\n",
       "\n",
       "    .dataframe thead th {\n",
       "        text-align: right;\n",
       "    }\n",
       "</style>\n",
       "<table border=\"1\" class=\"dataframe\">\n",
       "  <thead>\n",
       "    <tr style=\"text-align: right;\">\n",
       "      <th></th>\n",
       "      <th>DateCrawled</th>\n",
       "      <th>Price</th>\n",
       "      <th>VehicleType</th>\n",
       "      <th>RegistrationYear</th>\n",
       "      <th>Gearbox</th>\n",
       "      <th>Power</th>\n",
       "      <th>Model</th>\n",
       "      <th>Mileage</th>\n",
       "      <th>RegistrationMonth</th>\n",
       "      <th>FuelType</th>\n",
       "      <th>Brand</th>\n",
       "      <th>NotRepaired</th>\n",
       "      <th>DateCreated</th>\n",
       "      <th>NumberOfPictures</th>\n",
       "      <th>PostalCode</th>\n",
       "      <th>LastSeen</th>\n",
       "    </tr>\n",
       "  </thead>\n",
       "  <tbody>\n",
       "    <tr>\n",
       "      <th>0</th>\n",
       "      <td>24/03/2016 11:52</td>\n",
       "      <td>480</td>\n",
       "      <td>NaN</td>\n",
       "      <td>1993</td>\n",
       "      <td>manual</td>\n",
       "      <td>0</td>\n",
       "      <td>golf</td>\n",
       "      <td>150000</td>\n",
       "      <td>0</td>\n",
       "      <td>petrol</td>\n",
       "      <td>volkswagen</td>\n",
       "      <td>NaN</td>\n",
       "      <td>24/03/2016 00:00</td>\n",
       "      <td>0</td>\n",
       "      <td>70435</td>\n",
       "      <td>07/04/2016 03:16</td>\n",
       "    </tr>\n",
       "    <tr>\n",
       "      <th>1</th>\n",
       "      <td>24/03/2016 10:58</td>\n",
       "      <td>18300</td>\n",
       "      <td>coupe</td>\n",
       "      <td>2011</td>\n",
       "      <td>manual</td>\n",
       "      <td>190</td>\n",
       "      <td>NaN</td>\n",
       "      <td>125000</td>\n",
       "      <td>5</td>\n",
       "      <td>gasoline</td>\n",
       "      <td>audi</td>\n",
       "      <td>yes</td>\n",
       "      <td>24/03/2016 00:00</td>\n",
       "      <td>0</td>\n",
       "      <td>66954</td>\n",
       "      <td>07/04/2016 01:46</td>\n",
       "    </tr>\n",
       "    <tr>\n",
       "      <th>2</th>\n",
       "      <td>14/03/2016 12:52</td>\n",
       "      <td>9800</td>\n",
       "      <td>suv</td>\n",
       "      <td>2004</td>\n",
       "      <td>auto</td>\n",
       "      <td>163</td>\n",
       "      <td>grand</td>\n",
       "      <td>125000</td>\n",
       "      <td>8</td>\n",
       "      <td>gasoline</td>\n",
       "      <td>jeep</td>\n",
       "      <td>NaN</td>\n",
       "      <td>14/03/2016 00:00</td>\n",
       "      <td>0</td>\n",
       "      <td>90480</td>\n",
       "      <td>05/04/2016 12:47</td>\n",
       "    </tr>\n",
       "    <tr>\n",
       "      <th>3</th>\n",
       "      <td>17/03/2016 16:54</td>\n",
       "      <td>1500</td>\n",
       "      <td>small</td>\n",
       "      <td>2001</td>\n",
       "      <td>manual</td>\n",
       "      <td>75</td>\n",
       "      <td>golf</td>\n",
       "      <td>150000</td>\n",
       "      <td>6</td>\n",
       "      <td>petrol</td>\n",
       "      <td>volkswagen</td>\n",
       "      <td>no</td>\n",
       "      <td>17/03/2016 00:00</td>\n",
       "      <td>0</td>\n",
       "      <td>91074</td>\n",
       "      <td>17/03/2016 17:40</td>\n",
       "    </tr>\n",
       "    <tr>\n",
       "      <th>4</th>\n",
       "      <td>31/03/2016 17:25</td>\n",
       "      <td>3600</td>\n",
       "      <td>small</td>\n",
       "      <td>2008</td>\n",
       "      <td>manual</td>\n",
       "      <td>69</td>\n",
       "      <td>fabia</td>\n",
       "      <td>90000</td>\n",
       "      <td>7</td>\n",
       "      <td>gasoline</td>\n",
       "      <td>skoda</td>\n",
       "      <td>no</td>\n",
       "      <td>31/03/2016 00:00</td>\n",
       "      <td>0</td>\n",
       "      <td>60437</td>\n",
       "      <td>06/04/2016 10:17</td>\n",
       "    </tr>\n",
       "  </tbody>\n",
       "</table>\n",
       "</div>"
      ],
      "text/plain": [
       "        DateCrawled  Price VehicleType  RegistrationYear Gearbox  Power  \\\n",
       "0  24/03/2016 11:52    480         NaN              1993  manual      0   \n",
       "1  24/03/2016 10:58  18300       coupe              2011  manual    190   \n",
       "2  14/03/2016 12:52   9800         suv              2004    auto    163   \n",
       "3  17/03/2016 16:54   1500       small              2001  manual     75   \n",
       "4  31/03/2016 17:25   3600       small              2008  manual     69   \n",
       "\n",
       "   Model  Mileage  RegistrationMonth  FuelType       Brand NotRepaired  \\\n",
       "0   golf   150000                  0    petrol  volkswagen         NaN   \n",
       "1    NaN   125000                  5  gasoline        audi         yes   \n",
       "2  grand   125000                  8  gasoline        jeep         NaN   \n",
       "3   golf   150000                  6    petrol  volkswagen          no   \n",
       "4  fabia    90000                  7  gasoline       skoda          no   \n",
       "\n",
       "        DateCreated  NumberOfPictures  PostalCode          LastSeen  \n",
       "0  24/03/2016 00:00                 0       70435  07/04/2016 03:16  \n",
       "1  24/03/2016 00:00                 0       66954  07/04/2016 01:46  \n",
       "2  14/03/2016 00:00                 0       90480  05/04/2016 12:47  \n",
       "3  17/03/2016 00:00                 0       91074  17/03/2016 17:40  \n",
       "4  31/03/2016 00:00                 0       60437  06/04/2016 10:17  "
      ]
     },
     "execution_count": 4,
     "metadata": {},
     "output_type": "execute_result"
    }
   ],
   "source": [
    "df.head()"
   ]
  },
  {
   "cell_type": "markdown",
   "metadata": {},
   "source": [
    "<div class=\"alert alert-success\">\n",
    "<b>Reviewer's comment</b>\n",
    "\n",
    "The data was loaded and inspected\n",
    "\n",
    "</div>"
   ]
  },
  {
   "cell_type": "markdown",
   "metadata": {},
   "source": [
    "### Preprocess Data"
   ]
  },
  {
   "cell_type": "markdown",
   "metadata": {},
   "source": [
    "#### Rename Columns"
   ]
  },
  {
   "cell_type": "code",
   "execution_count": 5,
   "metadata": {},
   "outputs": [],
   "source": [
    "df = df.rename(columns={'DateCrawled': 'date_crawled', 'Price' : 'price', 'VehicleType' : 'vehicle_type', 'RegistrationYear' : 'registration_year', 'Gearbox' : 'gearbox', 'Power' : 'power', 'Model' : 'model', 'Mileage' : 'mileage', 'RegistrationMonth' : 'registration_month', 'FuelType' : 'fuel_type', 'Brand' : 'brand', 'NotRepaired' : 'not_repaired', 'DateCreated' : 'date_created', 'NumberOfPictures' : 'number_of_pictures', 'PostalCode' : 'postal_code', 'LastSeen' : 'last_seen'})"
   ]
  },
  {
   "cell_type": "markdown",
   "metadata": {},
   "source": [
    "Columns have been renamed to their ideal snake case format."
   ]
  },
  {
   "cell_type": "markdown",
   "metadata": {},
   "source": [
    "<div class=\"alert alert-success\">\n",
    "<b>Reviewer's comment</b>\n",
    "\n",
    "Good!\n",
    "\n",
    "</div>"
   ]
  },
  {
   "cell_type": "markdown",
   "metadata": {},
   "source": [
    "#### Convert date columns to datetime data type"
   ]
  },
  {
   "cell_type": "code",
   "execution_count": 6,
   "metadata": {},
   "outputs": [],
   "source": [
    "df['date_crawled'] = pd.to_datetime(df['date_crawled'], format='%d/%m/%Y %H:%M')\n",
    "df['date_created'] = pd.to_datetime(df['date_created'], format='%d/%m/%Y %H:%M')\n",
    "df['last_seen'] = pd.to_datetime(df['last_seen'], format='%d/%m/%Y %H:%M')"
   ]
  },
  {
   "cell_type": "code",
   "execution_count": 7,
   "metadata": {},
   "outputs": [
    {
     "name": "stdout",
     "output_type": "stream",
     "text": [
      "<class 'pandas.core.frame.DataFrame'>\n",
      "RangeIndex: 354369 entries, 0 to 354368\n",
      "Data columns (total 16 columns):\n",
      " #   Column              Non-Null Count   Dtype         \n",
      "---  ------              --------------   -----         \n",
      " 0   date_crawled        354369 non-null  datetime64[ns]\n",
      " 1   price               354369 non-null  int64         \n",
      " 2   vehicle_type        316879 non-null  object        \n",
      " 3   registration_year   354369 non-null  int64         \n",
      " 4   gearbox             334536 non-null  object        \n",
      " 5   power               354369 non-null  int64         \n",
      " 6   model               334664 non-null  object        \n",
      " 7   mileage             354369 non-null  int64         \n",
      " 8   registration_month  354369 non-null  int64         \n",
      " 9   fuel_type           321474 non-null  object        \n",
      " 10  brand               354369 non-null  object        \n",
      " 11  not_repaired        283215 non-null  object        \n",
      " 12  date_created        354369 non-null  datetime64[ns]\n",
      " 13  number_of_pictures  354369 non-null  int64         \n",
      " 14  postal_code         354369 non-null  int64         \n",
      " 15  last_seen           354369 non-null  datetime64[ns]\n",
      "dtypes: datetime64[ns](3), int64(7), object(6)\n",
      "memory usage: 43.3+ MB\n"
     ]
    }
   ],
   "source": [
    "df.info()"
   ]
  },
  {
   "cell_type": "markdown",
   "metadata": {},
   "source": [
    "The contents of the columns containing dates - `date_crawled`, `date_created`, and `last_seen` - have been converted to the `datetime64[ns]` datatype."
   ]
  },
  {
   "cell_type": "markdown",
   "metadata": {},
   "source": [
    "### Check for duplicate rows"
   ]
  },
  {
   "cell_type": "code",
   "execution_count": 8,
   "metadata": {},
   "outputs": [
    {
     "data": {
      "text/plain": [
       "262"
      ]
     },
     "execution_count": 8,
     "metadata": {},
     "output_type": "execute_result"
    }
   ],
   "source": [
    "df.duplicated().sum()"
   ]
  },
  {
   "cell_type": "code",
   "execution_count": 9,
   "metadata": {},
   "outputs": [],
   "source": [
    "df = df.drop_duplicates().reset_index(drop=True)"
   ]
  },
  {
   "cell_type": "code",
   "execution_count": 10,
   "metadata": {},
   "outputs": [
    {
     "data": {
      "text/plain": [
       "0"
      ]
     },
     "execution_count": 10,
     "metadata": {},
     "output_type": "execute_result"
    }
   ],
   "source": [
    "df.duplicated().sum()"
   ]
  },
  {
   "cell_type": "markdown",
   "metadata": {},
   "source": [
    "Duplicate rows have been removed."
   ]
  },
  {
   "cell_type": "markdown",
   "metadata": {},
   "source": [
    "<div class=\"alert alert-success\">\n",
    "<b>Reviewer's comment</b>\n",
    "\n",
    "Alright!\n",
    "\n",
    "</div>"
   ]
  },
  {
   "cell_type": "markdown",
   "metadata": {},
   "source": [
    "### Handling missing values"
   ]
  },
  {
   "cell_type": "code",
   "execution_count": 11,
   "metadata": {},
   "outputs": [
    {
     "data": {
      "text/plain": [
       "date_crawled              0\n",
       "price                     0\n",
       "vehicle_type          37484\n",
       "registration_year         0\n",
       "gearbox               19830\n",
       "power                     0\n",
       "model                 19701\n",
       "mileage                   0\n",
       "registration_month        0\n",
       "fuel_type             32889\n",
       "brand                     0\n",
       "not_repaired          71145\n",
       "date_created              0\n",
       "number_of_pictures        0\n",
       "postal_code               0\n",
       "last_seen                 0\n",
       "dtype: int64"
      ]
     },
     "execution_count": 11,
     "metadata": {},
     "output_type": "execute_result"
    }
   ],
   "source": [
    "df.isna().sum()"
   ]
  },
  {
   "cell_type": "markdown",
   "metadata": {},
   "source": [
    "#### Filling missing values with \"unknown\""
   ]
  },
  {
   "cell_type": "markdown",
   "metadata": {},
   "source": [
    "Rather than removing any of the rows with missing values, we will fill all the missing fields with `\"unknown\"` as they are categorical rather than numerical. Had there been numerical columns, we could have found a way to fill them with values rather than an arbitrary designation as we have.\n",
    "\n",
    "This is because creating models that take unkown variables into account will be a more accurate representation of real world scenarios as many people selling vehicles may not fill out every field pertaining to their vehicle's information."
   ]
  },
  {
   "cell_type": "code",
   "execution_count": 12,
   "metadata": {},
   "outputs": [],
   "source": [
    "df = df.fillna('unknown')"
   ]
  },
  {
   "cell_type": "markdown",
   "metadata": {},
   "source": [
    "<div class=\"alert alert-success\">\n",
    "<b>Reviewer's comment</b>\n",
    "\n",
    "Ok, this is one way to deal with missing values\n",
    "\n",
    "</div>"
   ]
  },
  {
   "cell_type": "markdown",
   "metadata": {},
   "source": [
    "#### Verify no more missing values"
   ]
  },
  {
   "cell_type": "code",
   "execution_count": 13,
   "metadata": {},
   "outputs": [
    {
     "data": {
      "text/plain": [
       "date_crawled          0\n",
       "price                 0\n",
       "vehicle_type          0\n",
       "registration_year     0\n",
       "gearbox               0\n",
       "power                 0\n",
       "model                 0\n",
       "mileage               0\n",
       "registration_month    0\n",
       "fuel_type             0\n",
       "brand                 0\n",
       "not_repaired          0\n",
       "date_created          0\n",
       "number_of_pictures    0\n",
       "postal_code           0\n",
       "last_seen             0\n",
       "dtype: int64"
      ]
     },
     "execution_count": 13,
     "metadata": {},
     "output_type": "execute_result"
    }
   ],
   "source": [
    "df.isna().sum()"
   ]
  },
  {
   "cell_type": "markdown",
   "metadata": {},
   "source": [
    "All missing values have been filled, and no more remain."
   ]
  },
  {
   "cell_type": "markdown",
   "metadata": {},
   "source": [
    "### Observe values in each categorical column"
   ]
  },
  {
   "cell_type": "markdown",
   "metadata": {},
   "source": [
    "#### `vehicle_type`"
   ]
  },
  {
   "cell_type": "code",
   "execution_count": 14,
   "metadata": {},
   "outputs": [
    {
     "data": {
      "text/plain": [
       "sedan          91399\n",
       "small          79753\n",
       "wagon          65115\n",
       "unknown        37484\n",
       "bus            28752\n",
       "convertible    20180\n",
       "coupe          16147\n",
       "suv            11991\n",
       "other           3286\n",
       "Name: vehicle_type, dtype: int64"
      ]
     },
     "execution_count": 14,
     "metadata": {},
     "output_type": "execute_result"
    }
   ],
   "source": [
    "df['vehicle_type'].value_counts()"
   ]
  },
  {
   "cell_type": "markdown",
   "metadata": {},
   "source": [
    "#### `gearbox`"
   ]
  },
  {
   "cell_type": "code",
   "execution_count": 15,
   "metadata": {},
   "outputs": [
    {
     "data": {
      "text/plain": [
       "manual     268034\n",
       "auto        66243\n",
       "unknown     19830\n",
       "Name: gearbox, dtype: int64"
      ]
     },
     "execution_count": 15,
     "metadata": {},
     "output_type": "execute_result"
    }
   ],
   "source": [
    "df['gearbox'].value_counts()"
   ]
  },
  {
   "cell_type": "markdown",
   "metadata": {},
   "source": [
    "#### `model`"
   ]
  },
  {
   "cell_type": "code",
   "execution_count": 16,
   "metadata": {
    "scrolled": true
   },
   "outputs": [
    {
     "data": {
      "text/plain": [
       "golf                  29215\n",
       "other                 24402\n",
       "3er                   19744\n",
       "unknown               19701\n",
       "polo                  13057\n",
       "                      ...  \n",
       "i3                        8\n",
       "serie_3                   4\n",
       "rangerover                4\n",
       "range_rover_evoque        2\n",
       "serie_1                   2\n",
       "Name: model, Length: 251, dtype: int64"
      ]
     },
     "execution_count": 16,
     "metadata": {},
     "output_type": "execute_result"
    }
   ],
   "source": [
    "df['model'].value_counts()"
   ]
  },
  {
   "cell_type": "code",
   "execution_count": 17,
   "metadata": {},
   "outputs": [],
   "source": [
    "models = df['model'].unique()"
   ]
  },
  {
   "cell_type": "code",
   "execution_count": 18,
   "metadata": {},
   "outputs": [
    {
     "data": {
      "text/plain": [
       "array(['100', '145', '147', '156', '159', '1_reihe', '1er', '200',\n",
       "       '2_reihe', '300c', '3_reihe', '3er', '4_reihe', '500', '5_reihe',\n",
       "       '5er', '601', '6_reihe', '6er', '7er', '80', '850', '90', '900',\n",
       "       '9000', '911', 'a1', 'a2', 'a3', 'a4', 'a5', 'a6', 'a8',\n",
       "       'a_klasse', 'accord', 'agila', 'alhambra', 'almera', 'altea',\n",
       "       'amarok', 'antara', 'arosa', 'astra', 'auris', 'avensis', 'aveo',\n",
       "       'aygo', 'b_klasse', 'b_max', 'beetle', 'berlingo', 'bora',\n",
       "       'boxster', 'bravo', 'c1', 'c2', 'c3', 'c4', 'c5', 'c_klasse',\n",
       "       'c_max', 'c_reihe', 'caddy', 'calibra', 'captiva', 'carisma',\n",
       "       'carnival', 'cayenne', 'cc', 'ceed', 'charade', 'cherokee',\n",
       "       'citigo', 'civic', 'cl', 'clio', 'clk', 'clubman', 'colt', 'combo',\n",
       "       'cooper', 'cordoba', 'corolla', 'corsa', 'cr_reihe', 'croma',\n",
       "       'crossfire', 'cuore', 'cx_reihe', 'defender', 'delta', 'discovery',\n",
       "       'doblo', 'ducato', 'duster', 'e_klasse', 'elefantino', 'eos',\n",
       "       'escort', 'espace', 'exeo', 'fabia', 'fiesta', 'focus', 'forester',\n",
       "       'forfour', 'fortwo', 'fox', 'freelander', 'fusion', 'g_klasse',\n",
       "       'galant', 'galaxy', 'getz', 'gl', 'glk', 'golf', 'grand', 'i3',\n",
       "       'i_reihe', 'ibiza', 'impreza', 'insignia', 'jazz', 'jetta',\n",
       "       'jimny', 'juke', 'justy', 'ka', 'kadett', 'kaefer', 'kalina',\n",
       "       'kalos', 'kangoo', 'kappa', 'kuga', 'laguna', 'lancer', 'lanos',\n",
       "       'legacy', 'leon', 'lodgy', 'logan', 'lupo', 'lybra', 'm_klasse',\n",
       "       'm_reihe', 'materia', 'matiz', 'megane', 'meriva', 'micra', 'mii',\n",
       "       'modus', 'mondeo', 'move', 'musa', 'mustang', 'mx_reihe', 'navara',\n",
       "       'niva', 'note', 'nubira', 'octavia', 'omega', 'one', 'other',\n",
       "       'outlander', 'pajero', 'panda', 'passat', 'phaeton', 'picanto',\n",
       "       'polo', 'primera', 'ptcruiser', 'punto', 'q3', 'q5', 'q7',\n",
       "       'qashqai', 'r19', 'range_rover', 'range_rover_evoque',\n",
       "       'range_rover_sport', 'rangerover', 'rav', 'rio', 'roadster',\n",
       "       'roomster', 'rx_reihe', 's60', 's_klasse', 's_max', 's_type',\n",
       "       'samara', 'sandero', 'santa', 'scenic', 'scirocco', 'seicento',\n",
       "       'serie_1', 'serie_2', 'serie_3', 'sharan', 'signum', 'sirion',\n",
       "       'sl', 'slk', 'sorento', 'spark', 'spider', 'sportage', 'sprinter',\n",
       "       'stilo', 'superb', 'swift', 'terios', 'tigra', 'tiguan', 'toledo',\n",
       "       'touareg', 'touran', 'transit', 'transporter', 'tt', 'tucson',\n",
       "       'twingo', 'unknown', 'up', 'v40', 'v50', 'v60', 'v70', 'v_klasse',\n",
       "       'vectra', 'verso', 'viano', 'vito', 'vivaro', 'voyager',\n",
       "       'wrangler', 'x_reihe', 'x_trail', 'x_type', 'xc_reihe', 'yaris',\n",
       "       'yeti', 'ypsilon', 'z_reihe', 'zafira'], dtype=object)"
      ]
     },
     "execution_count": 18,
     "metadata": {},
     "output_type": "execute_result"
    }
   ],
   "source": [
    "### Displaying models in order\n",
    "models.sort()\n",
    "models"
   ]
  },
  {
   "cell_type": "markdown",
   "metadata": {},
   "source": [
    "`rangerover` appears along with `range_rover` - these are the same vehicle model in different formatting so they will be standardized."
   ]
  },
  {
   "cell_type": "code",
   "execution_count": 19,
   "metadata": {},
   "outputs": [],
   "source": [
    "df['model'] = df['model'].where(df['model'] != 'rangerover', 'range_rover')"
   ]
  },
  {
   "cell_type": "markdown",
   "metadata": {},
   "source": [
    "<div class=\"alert alert-success\">\n",
    "<b>Reviewer's comment</b>\n",
    "\n",
    "Nice!\n",
    "\n",
    "</div>"
   ]
  },
  {
   "cell_type": "markdown",
   "metadata": {},
   "source": [
    "#### `fuel_type`"
   ]
  },
  {
   "cell_type": "code",
   "execution_count": 20,
   "metadata": {},
   "outputs": [
    {
     "data": {
      "text/plain": [
       "petrol      216161\n",
       "gasoline     98658\n",
       "unknown      32889\n",
       "lpg           5307\n",
       "cng            565\n",
       "hybrid         233\n",
       "other          204\n",
       "electric        90\n",
       "Name: fuel_type, dtype: int64"
      ]
     },
     "execution_count": 20,
     "metadata": {},
     "output_type": "execute_result"
    }
   ],
   "source": [
    "df['fuel_type'].value_counts()"
   ]
  },
  {
   "cell_type": "markdown",
   "metadata": {},
   "source": [
    "`petrol` and `gasoline` are the same fuel type. This being the case, we will rename `gasoline` to `petrol` to reflect this. `lpg` is liquified petroleum gas or propane autogas, as it's not represented twice, we will leave it as it is. `cng` is compressed natural gas, which consists primarily of methane, and like lpg is unique, so it will remain as it is."
   ]
  },
  {
   "cell_type": "code",
   "execution_count": 21,
   "metadata": {},
   "outputs": [],
   "source": [
    "df['fuel_type'] = df['fuel_type'].where(df['fuel_type'] != 'gasoline', 'petrol')"
   ]
  },
  {
   "cell_type": "markdown",
   "metadata": {},
   "source": [
    "<div class=\"alert alert-success\">\n",
    "<b>Reviewer's comment</b>\n",
    "\n",
    "Good!\n",
    "\n",
    "</div>"
   ]
  },
  {
   "cell_type": "code",
   "execution_count": 22,
   "metadata": {},
   "outputs": [
    {
     "data": {
      "text/plain": [
       "petrol      314819\n",
       "unknown      32889\n",
       "lpg           5307\n",
       "cng            565\n",
       "hybrid         233\n",
       "other          204\n",
       "electric        90\n",
       "Name: fuel_type, dtype: int64"
      ]
     },
     "execution_count": 22,
     "metadata": {},
     "output_type": "execute_result"
    }
   ],
   "source": [
    "df['fuel_type'].value_counts()"
   ]
  },
  {
   "cell_type": "markdown",
   "metadata": {},
   "source": [
    "`gasoline` values have been changed to `petrol` successfully."
   ]
  },
  {
   "cell_type": "markdown",
   "metadata": {},
   "source": [
    "#### `brand`"
   ]
  },
  {
   "cell_type": "code",
   "execution_count": 23,
   "metadata": {},
   "outputs": [
    {
     "data": {
      "text/plain": [
       "volkswagen        76960\n",
       "opel              39902\n",
       "bmw               36881\n",
       "mercedes_benz     32025\n",
       "audi              29439\n",
       "ford              25163\n",
       "renault           17915\n",
       "peugeot           10988\n",
       "fiat               9634\n",
       "seat               6901\n",
       "mazda              5611\n",
       "skoda              5490\n",
       "smart              5241\n",
       "citroen            5143\n",
       "nissan             4936\n",
       "toyota             4601\n",
       "hyundai            3583\n",
       "sonstige_autos     3373\n",
       "volvo              3207\n",
       "mini               3201\n",
       "mitsubishi         3022\n",
       "honda              2817\n",
       "kia                2463\n",
       "suzuki             2320\n",
       "alfa_romeo         2311\n",
       "chevrolet          1751\n",
       "chrysler           1439\n",
       "dacia               898\n",
       "daihatsu            806\n",
       "subaru              762\n",
       "porsche             758\n",
       "jeep                677\n",
       "trabant             589\n",
       "land_rover          545\n",
       "daewoo              542\n",
       "saab                526\n",
       "jaguar              505\n",
       "rover               486\n",
       "lancia              471\n",
       "lada                225\n",
       "Name: brand, dtype: int64"
      ]
     },
     "execution_count": 23,
     "metadata": {},
     "output_type": "execute_result"
    }
   ],
   "source": [
    "df['brand'].value_counts()"
   ]
  },
  {
   "cell_type": "markdown",
   "metadata": {},
   "source": [
    "We are checking for abbreviations for repeated brands, i.e. Chevrolet and Chevy. The only potentially present is `land_rover` and `rover`. However, Rover my represent a different brand in and of itself as the brand has been owned by numerous companies over its life. We will observe entries that belong to `rover` and see if they represent only `land_rover` or more than just those vehicles."
   ]
  },
  {
   "cell_type": "code",
   "execution_count": 24,
   "metadata": {},
   "outputs": [
    {
     "data": {
      "text/plain": [
       "model      \n",
       "other          394\n",
       "unknown         82\n",
       "range_rover      4\n",
       "freelander       3\n",
       "discovery        2\n",
       "defender         1\n",
       "dtype: int64"
      ]
     },
     "metadata": {},
     "output_type": "display_data"
    }
   ],
   "source": [
    "display(df.query(\"brand == 'rover'\")[['model']].value_counts())"
   ]
  },
  {
   "cell_type": "markdown",
   "metadata": {},
   "source": [
    "The only known values of the `model` column when the `brand` is rover are Land Rover vehicles. However, this makes up 10 of the nearly 500 vehicles, so there is not enough information to change `rover` to `land_rover` and being that there are unique vehicles to the Rover brand, found through cursory research, that did or do not exist as part of the Land Rover brand, it is best to keep it as a unique entry."
   ]
  },
  {
   "cell_type": "markdown",
   "metadata": {},
   "source": [
    "#### `not_repaired`"
   ]
  },
  {
   "cell_type": "code",
   "execution_count": 25,
   "metadata": {},
   "outputs": [
    {
     "data": {
      "text/plain": [
       "no         246927\n",
       "unknown     71145\n",
       "yes         36035\n",
       "Name: not_repaired, dtype: int64"
      ]
     },
     "execution_count": 25,
     "metadata": {},
     "output_type": "execute_result"
    }
   ],
   "source": [
    "df['not_repaired'].value_counts()"
   ]
  },
  {
   "cell_type": "markdown",
   "metadata": {},
   "source": [
    "<div class=\"alert alert-warning\">\n",
    "<b>Reviewer's comment</b>\n",
    "\n",
    "Nice work on data preprocessing, although there are some problems with the data you seem to have missed. I suggest checking numerical feature distributions\n",
    "\n",
    "</div>"
   ]
  },
  {
   "cell_type": "markdown",
   "metadata": {},
   "source": [
    "<div class=\"alert alert-info\">\n",
    "Below the train_test_split I've used standard scaling on the features - I believe this is what you mean by checking the numerical feature distributions - the outcome being that they need to be standardized to be optimized for model creation. Please correct me if I'm wrong though.\n",
    "</div>"
   ]
  },
  {
   "cell_type": "markdown",
   "metadata": {},
   "source": [
    "<div class=\"alert alert-warning\">\n",
    "<b>Reviewer's comment V2</b>\n",
    "\n",
    "Not quite what I meant: there are some values which don't make sense (for example registration years below 1900 or above 2016, which is the dataset collection date if I recall correctly, or prices equal to 0, or horse power more that the most powerful prototype cars). It would be a good idea to remove such data points: the model is as good as the data :)\n",
    "\n",
    "</div>"
   ]
  },
  {
   "cell_type": "markdown",
   "metadata": {},
   "source": [
    "## Model training"
   ]
  },
  {
   "cell_type": "markdown",
   "metadata": {},
   "source": [
    "### Convert categorical columns to numerical with OHE"
   ]
  },
  {
   "cell_type": "code",
   "execution_count": 26,
   "metadata": {},
   "outputs": [],
   "source": [
    "### Remove columns with datetime so they don't go through OHE\n",
    "df2 = df.drop(['date_crawled', 'date_created', 'last_seen'], axis=1)"
   ]
  },
  {
   "cell_type": "code",
   "execution_count": 27,
   "metadata": {},
   "outputs": [],
   "source": [
    "df_ohe = pd.get_dummies(df2, drop_first=True)"
   ]
  },
  {
   "cell_type": "markdown",
   "metadata": {},
   "source": [
    "<div class=\"alert alert-success\">\n",
    "<b>Reviewer's comment</b>\n",
    "\n",
    "Categorical features were encoded\n",
    "\n",
    "</div>"
   ]
  },
  {
   "cell_type": "code",
   "execution_count": 28,
   "metadata": {},
   "outputs": [],
   "source": [
    "### Add back columns with dateime to dataframe\n",
    "# df_ohe['date_crawled'] = pd.to_numeric(df.date_crawled)\n",
    "# df_ohe['date_created'] = pd.to_numeric(df.date_created)\n",
    "# df_ohe['last_seen'] = pd.to_numeric(df.last_seen)\n",
    "### Blocked in order to not remove, but not process"
   ]
  },
  {
   "cell_type": "markdown",
   "metadata": {},
   "source": [
    "<div class=\"alert alert-warning\">\n",
    "<b>Reviewer's comment</b>\n",
    "\n",
    "Not sure what you need these dates for: they don't seem to have any connection to price\n",
    "\n",
    "</div>"
   ]
  },
  {
   "cell_type": "markdown",
   "metadata": {},
   "source": [
    "<div class=\"alert alert-info\">\n",
    "The only reason I replaced them in the data is because they are specified to be features in the data description for the project. Maybe that's just the generalized term for \"not the target\", but I erred on the side of leaving them in the data than removing them just in case. I've kept the code but blocked it from running as the three sets of dates aren't likely connected to price. I have no doubt the dates could be more useful in showing trends over time in an EDA or SDA, but as we're only building models, they're not terribly relevant at this time.\n",
    "</div>"
   ]
  },
  {
   "cell_type": "markdown",
   "metadata": {},
   "source": [
    "<div class=\"alert alert-success\">\n",
    "<b>Reviewer's comment V2</b>\n",
    "\n",
    "> Maybe that's just the generalized term for \"not the target\"\n",
    "    \n",
    "Yep, that's exactly it :)\n",
    "\n",
    "</div>"
   ]
  },
  {
   "cell_type": "code",
   "execution_count": 29,
   "metadata": {},
   "outputs": [
    {
     "data": {
      "text/html": [
       "<div>\n",
       "<style scoped>\n",
       "    .dataframe tbody tr th:only-of-type {\n",
       "        vertical-align: middle;\n",
       "    }\n",
       "\n",
       "    .dataframe tbody tr th {\n",
       "        vertical-align: top;\n",
       "    }\n",
       "\n",
       "    .dataframe thead th {\n",
       "        text-align: right;\n",
       "    }\n",
       "</style>\n",
       "<table border=\"1\" class=\"dataframe\">\n",
       "  <thead>\n",
       "    <tr style=\"text-align: right;\">\n",
       "      <th></th>\n",
       "      <th>price</th>\n",
       "      <th>registration_year</th>\n",
       "      <th>power</th>\n",
       "      <th>mileage</th>\n",
       "      <th>registration_month</th>\n",
       "      <th>number_of_pictures</th>\n",
       "      <th>postal_code</th>\n",
       "      <th>vehicle_type_convertible</th>\n",
       "      <th>vehicle_type_coupe</th>\n",
       "      <th>vehicle_type_other</th>\n",
       "      <th>...</th>\n",
       "      <th>brand_smart</th>\n",
       "      <th>brand_sonstige_autos</th>\n",
       "      <th>brand_subaru</th>\n",
       "      <th>brand_suzuki</th>\n",
       "      <th>brand_toyota</th>\n",
       "      <th>brand_trabant</th>\n",
       "      <th>brand_volkswagen</th>\n",
       "      <th>brand_volvo</th>\n",
       "      <th>not_repaired_unknown</th>\n",
       "      <th>not_repaired_yes</th>\n",
       "    </tr>\n",
       "  </thead>\n",
       "  <tbody>\n",
       "    <tr>\n",
       "      <th>0</th>\n",
       "      <td>480</td>\n",
       "      <td>1993</td>\n",
       "      <td>0</td>\n",
       "      <td>150000</td>\n",
       "      <td>0</td>\n",
       "      <td>0</td>\n",
       "      <td>70435</td>\n",
       "      <td>0</td>\n",
       "      <td>0</td>\n",
       "      <td>0</td>\n",
       "      <td>...</td>\n",
       "      <td>0</td>\n",
       "      <td>0</td>\n",
       "      <td>0</td>\n",
       "      <td>0</td>\n",
       "      <td>0</td>\n",
       "      <td>0</td>\n",
       "      <td>1</td>\n",
       "      <td>0</td>\n",
       "      <td>1</td>\n",
       "      <td>0</td>\n",
       "    </tr>\n",
       "    <tr>\n",
       "      <th>1</th>\n",
       "      <td>18300</td>\n",
       "      <td>2011</td>\n",
       "      <td>190</td>\n",
       "      <td>125000</td>\n",
       "      <td>5</td>\n",
       "      <td>0</td>\n",
       "      <td>66954</td>\n",
       "      <td>0</td>\n",
       "      <td>1</td>\n",
       "      <td>0</td>\n",
       "      <td>...</td>\n",
       "      <td>0</td>\n",
       "      <td>0</td>\n",
       "      <td>0</td>\n",
       "      <td>0</td>\n",
       "      <td>0</td>\n",
       "      <td>0</td>\n",
       "      <td>0</td>\n",
       "      <td>0</td>\n",
       "      <td>0</td>\n",
       "      <td>1</td>\n",
       "    </tr>\n",
       "    <tr>\n",
       "      <th>2</th>\n",
       "      <td>9800</td>\n",
       "      <td>2004</td>\n",
       "      <td>163</td>\n",
       "      <td>125000</td>\n",
       "      <td>8</td>\n",
       "      <td>0</td>\n",
       "      <td>90480</td>\n",
       "      <td>0</td>\n",
       "      <td>0</td>\n",
       "      <td>0</td>\n",
       "      <td>...</td>\n",
       "      <td>0</td>\n",
       "      <td>0</td>\n",
       "      <td>0</td>\n",
       "      <td>0</td>\n",
       "      <td>0</td>\n",
       "      <td>0</td>\n",
       "      <td>0</td>\n",
       "      <td>0</td>\n",
       "      <td>1</td>\n",
       "      <td>0</td>\n",
       "    </tr>\n",
       "    <tr>\n",
       "      <th>3</th>\n",
       "      <td>1500</td>\n",
       "      <td>2001</td>\n",
       "      <td>75</td>\n",
       "      <td>150000</td>\n",
       "      <td>6</td>\n",
       "      <td>0</td>\n",
       "      <td>91074</td>\n",
       "      <td>0</td>\n",
       "      <td>0</td>\n",
       "      <td>0</td>\n",
       "      <td>...</td>\n",
       "      <td>0</td>\n",
       "      <td>0</td>\n",
       "      <td>0</td>\n",
       "      <td>0</td>\n",
       "      <td>0</td>\n",
       "      <td>0</td>\n",
       "      <td>1</td>\n",
       "      <td>0</td>\n",
       "      <td>0</td>\n",
       "      <td>0</td>\n",
       "    </tr>\n",
       "    <tr>\n",
       "      <th>4</th>\n",
       "      <td>3600</td>\n",
       "      <td>2008</td>\n",
       "      <td>69</td>\n",
       "      <td>90000</td>\n",
       "      <td>7</td>\n",
       "      <td>0</td>\n",
       "      <td>60437</td>\n",
       "      <td>0</td>\n",
       "      <td>0</td>\n",
       "      <td>0</td>\n",
       "      <td>...</td>\n",
       "      <td>0</td>\n",
       "      <td>0</td>\n",
       "      <td>0</td>\n",
       "      <td>0</td>\n",
       "      <td>0</td>\n",
       "      <td>0</td>\n",
       "      <td>0</td>\n",
       "      <td>0</td>\n",
       "      <td>0</td>\n",
       "      <td>0</td>\n",
       "    </tr>\n",
       "  </tbody>\n",
       "</table>\n",
       "<p>5 rows × 313 columns</p>\n",
       "</div>"
      ],
      "text/plain": [
       "   price  registration_year  power  mileage  registration_month  \\\n",
       "0    480               1993      0   150000                   0   \n",
       "1  18300               2011    190   125000                   5   \n",
       "2   9800               2004    163   125000                   8   \n",
       "3   1500               2001     75   150000                   6   \n",
       "4   3600               2008     69    90000                   7   \n",
       "\n",
       "   number_of_pictures  postal_code  vehicle_type_convertible  \\\n",
       "0                   0        70435                         0   \n",
       "1                   0        66954                         0   \n",
       "2                   0        90480                         0   \n",
       "3                   0        91074                         0   \n",
       "4                   0        60437                         0   \n",
       "\n",
       "   vehicle_type_coupe  vehicle_type_other  ...  brand_smart  \\\n",
       "0                   0                   0  ...            0   \n",
       "1                   1                   0  ...            0   \n",
       "2                   0                   0  ...            0   \n",
       "3                   0                   0  ...            0   \n",
       "4                   0                   0  ...            0   \n",
       "\n",
       "   brand_sonstige_autos  brand_subaru  brand_suzuki  brand_toyota  \\\n",
       "0                     0             0             0             0   \n",
       "1                     0             0             0             0   \n",
       "2                     0             0             0             0   \n",
       "3                     0             0             0             0   \n",
       "4                     0             0             0             0   \n",
       "\n",
       "   brand_trabant  brand_volkswagen  brand_volvo  not_repaired_unknown  \\\n",
       "0              0                 1            0                     1   \n",
       "1              0                 0            0                     0   \n",
       "2              0                 0            0                     1   \n",
       "3              0                 1            0                     0   \n",
       "4              0                 0            0                     0   \n",
       "\n",
       "   not_repaired_yes  \n",
       "0                 0  \n",
       "1                 1  \n",
       "2                 0  \n",
       "3                 0  \n",
       "4                 0  \n",
       "\n",
       "[5 rows x 313 columns]"
      ]
     },
     "execution_count": 29,
     "metadata": {},
     "output_type": "execute_result"
    }
   ],
   "source": [
    "df_ohe.head()"
   ]
  },
  {
   "cell_type": "markdown",
   "metadata": {},
   "source": [
    "Categorical columns have been encoded to become numerical columns to be able to go through regressive modeling. We first removed the date columns to avoid issues with the one-hot encoding process then added them back into the encoded dataframe making it ready to split into training and test data."
   ]
  },
  {
   "cell_type": "markdown",
   "metadata": {},
   "source": [
    "### Splitting data for training and testing"
   ]
  },
  {
   "cell_type": "code",
   "execution_count": 30,
   "metadata": {},
   "outputs": [],
   "source": [
    "target = df_ohe['price']\n",
    "features = df_ohe.drop(['price', 'postal_code', 'registration_month'], axis=1)\n",
    "\n",
    "features_train, features_valid, target_train, target_valid = train_test_split(features, target, test_size=0.2, random_state=759638)\n",
    "features_train, features_test, target_train, target_test = train_test_split(features, target, test_size=0.25, random_state=759638)"
   ]
  },
  {
   "cell_type": "markdown",
   "metadata": {},
   "source": [
    "<div class=\"alert alert-info\">\n",
    "I didn't add the date columnss back in above and removed the `postal_code` as well from my initial submission as it's just one more feature to bog down the model and there isn't a benefit to keeping it since the model can't interpret the actual meaning. I also removed `registration_month` as it's an arbitrary value which logically carries little to no weight on the price of a vehicle when compared to the year it's made, mileage, etc.\n",
    "</div>"
   ]
  },
  {
   "cell_type": "markdown",
   "metadata": {},
   "source": [
    "<div class=\"alert alert-success\">\n",
    "<b>Reviewer's comment V2</b>\n",
    "\n",
    "These are great points! \n",
    "\n",
    "</div>"
   ]
  },
  {
   "cell_type": "markdown",
   "metadata": {},
   "source": [
    "<div class=\"alert alert-success\">\n",
    "<b>Reviewer's comment</b>\n",
    "\n",
    "The data was split into train and test sets\n",
    "\n",
    "</div>"
   ]
  },
  {
   "cell_type": "markdown",
   "metadata": {},
   "source": [
    "Data has been separated into targets and features, then it was split at a 3:1:1 ratio into the training, validation, and test sets."
   ]
  },
  {
   "cell_type": "markdown",
   "metadata": {},
   "source": [
    "### Stadardize Scaling of Features"
   ]
  },
  {
   "cell_type": "code",
   "execution_count": 31,
   "metadata": {
    "scrolled": true
   },
   "outputs": [
    {
     "name": "stderr",
     "output_type": "stream",
     "text": [
      "/tmp/ipykernel_52/3161025213.py:5: SettingWithCopyWarning: \n",
      "A value is trying to be set on a copy of a slice from a DataFrame.\n",
      "Try using .loc[row_indexer,col_indexer] = value instead\n",
      "\n",
      "See the caveats in the documentation: https://pandas.pydata.org/pandas-docs/stable/user_guide/indexing.html#returning-a-view-versus-a-copy\n",
      "  features_train[numeric] = scaler.transform(features_train[numeric])\n",
      "/opt/conda/lib/python3.9/site-packages/pandas/core/indexing.py:1738: SettingWithCopyWarning: \n",
      "A value is trying to be set on a copy of a slice from a DataFrame.\n",
      "Try using .loc[row_indexer,col_indexer] = value instead\n",
      "\n",
      "See the caveats in the documentation: https://pandas.pydata.org/pandas-docs/stable/user_guide/indexing.html#returning-a-view-versus-a-copy\n",
      "  self._setitem_single_column(loc, value[:, i].tolist(), pi)\n",
      "/tmp/ipykernel_52/3161025213.py:6: SettingWithCopyWarning: \n",
      "A value is trying to be set on a copy of a slice from a DataFrame.\n",
      "Try using .loc[row_indexer,col_indexer] = value instead\n",
      "\n",
      "See the caveats in the documentation: https://pandas.pydata.org/pandas-docs/stable/user_guide/indexing.html#returning-a-view-versus-a-copy\n",
      "  features_valid[numeric] = scaler.transform(features_valid[numeric])\n",
      "/opt/conda/lib/python3.9/site-packages/pandas/core/indexing.py:1738: SettingWithCopyWarning: \n",
      "A value is trying to be set on a copy of a slice from a DataFrame.\n",
      "Try using .loc[row_indexer,col_indexer] = value instead\n",
      "\n",
      "See the caveats in the documentation: https://pandas.pydata.org/pandas-docs/stable/user_guide/indexing.html#returning-a-view-versus-a-copy\n",
      "  self._setitem_single_column(loc, value[:, i].tolist(), pi)\n",
      "/tmp/ipykernel_52/3161025213.py:7: SettingWithCopyWarning: \n",
      "A value is trying to be set on a copy of a slice from a DataFrame.\n",
      "Try using .loc[row_indexer,col_indexer] = value instead\n",
      "\n",
      "See the caveats in the documentation: https://pandas.pydata.org/pandas-docs/stable/user_guide/indexing.html#returning-a-view-versus-a-copy\n",
      "  features_test[numeric] = scaler.transform(features_test[numeric])\n",
      "/opt/conda/lib/python3.9/site-packages/pandas/core/indexing.py:1738: SettingWithCopyWarning: \n",
      "A value is trying to be set on a copy of a slice from a DataFrame.\n",
      "Try using .loc[row_indexer,col_indexer] = value instead\n",
      "\n",
      "See the caveats in the documentation: https://pandas.pydata.org/pandas-docs/stable/user_guide/indexing.html#returning-a-view-versus-a-copy\n",
      "  self._setitem_single_column(loc, value[:, i].tolist(), pi)\n"
     ]
    }
   ],
   "source": [
    "numeric = ['registration_year', 'power', 'number_of_pictures']\n",
    "\n",
    "scaler = StandardScaler()\n",
    "scaler.fit(features_train[numeric]) \n",
    "features_train[numeric] = scaler.transform(features_train[numeric])\n",
    "features_valid[numeric] = scaler.transform(features_valid[numeric])\n",
    "features_test[numeric] = scaler.transform(features_test[numeric])"
   ]
  },
  {
   "cell_type": "markdown",
   "metadata": {},
   "source": [
    "<div class=\"alert alert-info\">\n",
    "I scaled the features, training the scalar on the training data set, which is the way the lessons taught. I have mixed thoughts on this, so any clarification you could offer would be appreciated. I understand the practice as the training set is the largest and theoretically the most representative of the data. However, not training with the validation or test sets in the features also seems less than ideal as we're scaling data then applying that scaling to an entirely different set. When validating or testing models in the way it makes sense as there is merit to doing so, however scaling in this same fashion doesn't seem optimal.\n",
    "</div>"
   ]
  },
  {
   "cell_type": "markdown",
   "metadata": {},
   "source": [
    "<div class=\"alert alert-success\">\n",
    "<b>Reviewer's comment V2</b>\n",
    "\n",
    "Scaling is done correctly! The scaler can't be trained on validation/test data for the simple reason that scaler is part of the model and we treat validation/test data as unseen by the model, so just like with the model itself, the scaler can only be fit using the train set.\n",
    "    \n",
    "You are correct that if the train and validation/test set distributions are significantly diffirent, this can lead to problems, but this is also true about the model itself, just like for the scaler: the model only works under the assumption that train and validation/test (and more importantly the new data the model will encounter in production which is emulated by validation and test data) are coming from the same distribution. \n",
    "\n",
    "</div>"
   ]
  },
  {
   "cell_type": "markdown",
   "metadata": {},
   "source": [
    "### Training Models"
   ]
  },
  {
   "cell_type": "markdown",
   "metadata": {},
   "source": [
    "#### Linear Regression"
   ]
  },
  {
   "cell_type": "code",
   "execution_count": 37,
   "metadata": {},
   "outputs": [],
   "source": [
    "lr_model = LinearRegression()\n",
    "lr_model.fit(features_train, target_train)\n",
    "lr_prediction_valid = lr_model.predict(features_valid)\n",
    "lr_RMSE_valid = mean_squared_error(target_valid, lr_prediction_valid, squared=False)"
   ]
  },
  {
   "cell_type": "code",
   "execution_count": 38,
   "metadata": {},
   "outputs": [
    {
     "name": "stdout",
     "output_type": "stream",
     "text": [
      "20.9 s ± 171 ms per loop (mean ± std. dev. of 5 runs, 1 loop each)\n"
     ]
    }
   ],
   "source": [
    "%%timeit -r 5\n",
    "lr_model = LinearRegression()\n",
    "lr_model.fit(features_train, target_train)"
   ]
  },
  {
   "cell_type": "code",
   "execution_count": 39,
   "metadata": {},
   "outputs": [
    {
     "name": "stdout",
     "output_type": "stream",
     "text": [
      "200 ms ± 1.02 ms per loop (mean ± std. dev. of 5 runs, 10 loops each)\n"
     ]
    }
   ],
   "source": [
    "%%timeit -r 5\n",
    "lr_prediction = lr_model.predict(features_test)\n",
    "lr_RMSE = mean_squared_error(target_test, lr_prediction, squared=False)"
   ]
  },
  {
   "cell_type": "code",
   "execution_count": 40,
   "metadata": {},
   "outputs": [],
   "source": [
    "lr_prediction = lr_model.predict(features_test)\n",
    "lr_RMSE = mean_squared_error(target_test, lr_prediction, squared=False)"
   ]
  },
  {
   "cell_type": "code",
   "execution_count": 41,
   "metadata": {},
   "outputs": [
    {
     "name": "stdout",
     "output_type": "stream",
     "text": [
      "Linear Regression model:\n",
      "Validation data RMSE: 3267.256234555461\n",
      "Test data RMSE: 3268.418536679359\n",
      "Model training time: 20.9 s ± 171 ms per loop (mean ± std. dev. of 5 runs, 1 loop each)\n",
      "Model evaluation time: 200 ms ± 1.02 ms per loop (mean ± std. dev. of 5 runs, 10 loops each)\n"
     ]
    }
   ],
   "source": [
    "print(\"Linear Regression model:\")\n",
    "print(\"Validation data RMSE:\", lr_RMSE_valid)\n",
    "print(\"Test data RMSE:\", lr_RMSE)\n",
    "print(\"Model training time: 20.9 s ± 171 ms per loop (mean ± std. dev. of 5 runs, 1 loop each)\")\n",
    "print(\"Model evaluation time: 200 ms ± 1.02 ms per loop (mean ± std. dev. of 5 runs, 10 loops each)\")"
   ]
  },
  {
   "cell_type": "markdown",
   "metadata": {},
   "source": [
    "#### Decision Tree Regressor"
   ]
  },
  {
   "cell_type": "code",
   "execution_count": 52,
   "metadata": {},
   "outputs": [],
   "source": [
    "### Hyperparameter tuning loop\n",
    "# dtr_depth_score = []\n",
    "#\n",
    "# for depth in range(75, 96):\n",
    "#     model = DecisionTreeRegressor(max_depth=depth, random_state=759638)\n",
    "#     model.fit(features_train, target_train)\n",
    "#     prediction_train = model.predict(features_train)\n",
    "#     score = mean_squared_error(target_train, prediction_train, squared=False)\n",
    "#     dtr_depth_score.append([depth, score])"
   ]
  },
  {
   "cell_type": "code",
   "execution_count": 53,
   "metadata": {},
   "outputs": [],
   "source": [
    "### Display tuning results\n",
    "# display(dtr_depth_score)"
   ]
  },
  {
   "cell_type": "code",
   "execution_count": 55,
   "metadata": {},
   "outputs": [],
   "source": [
    "### Validaation set RMSE\n",
    "### 29 first sub 1000 RMSE -> 999.4349397355475\n",
    "### 85 first with minimum RMSE of 859.7694180104155"
   ]
  },
  {
   "cell_type": "code",
   "execution_count": 59,
   "metadata": {},
   "outputs": [],
   "source": [
    "dtr_model = DecisionTreeRegressor(max_depth=85, random_state=759638)\n",
    "dtr_model.fit(features_train, target_train)\n",
    "\n",
    "dtr_prediction_valid = dtr_model.predict(features_valid)\n",
    "dtr_RMSE_valid = mean_squared_error(target_valid, dtr_prediction_valid, squared=False)\n",
    "\n",
    "dtr_prediction = dtr_model.predict(features_test)\n",
    "dtr_RMSE = mean_squared_error(target_test, dtr_prediction, squared=False)"
   ]
  },
  {
   "cell_type": "code",
   "execution_count": 60,
   "metadata": {},
   "outputs": [
    {
     "name": "stdout",
     "output_type": "stream",
     "text": [
      "8.06 s ± 72.6 ms per loop (mean ± std. dev. of 5 runs, 1 loop each)\n"
     ]
    }
   ],
   "source": [
    "%%timeit -r 5 \n",
    "dtr_model = DecisionTreeRegressor(max_depth=85, random_state=759638)\n",
    "dtr_model.fit(features_train, target_train)"
   ]
  },
  {
   "cell_type": "code",
   "execution_count": 61,
   "metadata": {},
   "outputs": [
    {
     "name": "stdout",
     "output_type": "stream",
     "text": [
      "115 ms ± 1.88 ms per loop (mean ± std. dev. of 5 runs, 10 loops each)\n"
     ]
    }
   ],
   "source": [
    "%%timeit -r 5 \n",
    "dtr_prediction_valid = dtr_model.predict(features_valid)\n",
    "dtr_RMSE_valid = mean_squared_error(target_valid, dtr_prediction_valid, squared=False)"
   ]
  },
  {
   "cell_type": "code",
   "execution_count": 63,
   "metadata": {},
   "outputs": [
    {
     "name": "stdout",
     "output_type": "stream",
     "text": [
      "Decision Tree Regressor model:\n",
      "Depth: 85\n",
      "Validation data RMSE: 2123.7956299915595\n",
      "Test data RMSE: 2124.4425812318923\n",
      "Model training time: 8.06 s ± 72.6 ms per loop (mean ± std. dev. of 5 runs, 1 loop each)\n",
      "Model evaluation time: 115 ms ± 1.88 ms per loop (mean ± std. dev. of 5 runs, 10 loops each)\n"
     ]
    }
   ],
   "source": [
    "print(\"Decision Tree Regressor model:\")\n",
    "print(\"Depth: 85\")\n",
    "print(\"Validation data RMSE:\", dtr_RMSE_valid)\n",
    "print(\"Test data RMSE:\", dtr_RMSE)\n",
    "print(\"Model training time: 8.06 s ± 72.6 ms per loop (mean ± std. dev. of 5 runs, 1 loop each)\")\n",
    "print(\"Model evaluation time: 115 ms ± 1.88 ms per loop (mean ± std. dev. of 5 runs, 10 loops each)\")"
   ]
  },
  {
   "cell_type": "markdown",
   "metadata": {},
   "source": [
    "#### Random Forest Regressor"
   ]
  },
  {
   "cell_type": "code",
   "execution_count": 133,
   "metadata": {},
   "outputs": [],
   "source": [
    "### Hyperparameter tuning loop\n",
    "#\n",
    "# rfr_depth_score = []\n",
    "#\n",
    "# for est in range(91, 100):\n",
    "#     for depth in range (26, 29):\n",
    "#         model = RandomForestRegressor(random_state=759638, n_estimators=est, max_depth=depth)\n",
    "#         model.fit(features_train, target_train)\n",
    "#         prediction_valid = model.predict(features_valid)\n",
    "#         score = mean_squared_error(target_valid, prediction_valid, squared=False)\n",
    "#         rfr_depth_score.append([est, depth, score])"
   ]
  },
  {
   "cell_type": "code",
   "execution_count": 132,
   "metadata": {},
   "outputs": [],
   "source": [
    "### Display tuning results\n",
    "# display(rfr_depth_score)"
   ]
  },
  {
   "cell_type": "code",
   "execution_count": 134,
   "metadata": {},
   "outputs": [],
   "source": [
    "rfr_model = RandomForestRegressor(random_state=759638, n_estimators=94, max_depth=28)\n",
    "rfr_model.fit(features_train, target_train)\n",
    "\n",
    "rfr_prediction_valid = rfr_model.predict(features_valid)\n",
    "rfr_RMSE_valid = mean_squared_error(target_valid, rfr_prediction_valid, squared=False)\n",
    "\n",
    "rfr_prediction = rfr_model.predict(features_test)\n",
    "rfr_RMSE = mean_squared_error(target_test, rfr_prediction, squared=False)"
   ]
  },
  {
   "cell_type": "code",
   "execution_count": 135,
   "metadata": {},
   "outputs": [
    {
     "name": "stdout",
     "output_type": "stream",
     "text": [
      "2min 13s ± 1.76 s per loop (mean ± std. dev. of 5 runs, 1 loop each)\n"
     ]
    }
   ],
   "source": [
    "%%timeit -r 5\n",
    "rfr_model = RandomForestRegressor(random_state=759638, n_estimators=94, max_depth=28)\n",
    "rfr_model.fit(features_test, target_test)"
   ]
  },
  {
   "cell_type": "code",
   "execution_count": 136,
   "metadata": {},
   "outputs": [
    {
     "name": "stdout",
     "output_type": "stream",
     "text": [
      "2.77 s ± 34.5 ms per loop (mean ± std. dev. of 5 runs, 1 loop each)\n"
     ]
    }
   ],
   "source": [
    "%%timeit -r 5\n",
    "rfr_prediction_valid = rfr_model.predict(features_valid)\n",
    "rfr_RMSE_valid = mean_squared_error(target_valid, rfr_prediction_valid, squared=False)"
   ]
  },
  {
   "cell_type": "code",
   "execution_count": 138,
   "metadata": {
    "scrolled": true
   },
   "outputs": [
    {
     "name": "stdout",
     "output_type": "stream",
     "text": [
      "Random Forest Regressor model:\n",
      "Estimators: 94\n",
      "Depth: 28\n",
      "Validation data RMSE: 1763.309152866489\n",
      "Test data RMSE: 1763.767514478163\n",
      "Model training time: 2min 13s ± 1.76 s per loop (mean ± std. dev. of 5 runs, 1 loop each)\n",
      "Model evaluation time: 2.77 s ± 34.5 ms per loop (mean ± std. dev. of 5 runs, 1 loop each)\n"
     ]
    }
   ],
   "source": [
    "print(\"Random Forest Regressor model:\")\n",
    "print(\"Estimators: 94\")\n",
    "print(\"Depth: 28\")\n",
    "print(\"Validation data RMSE:\", rfr_RMSE_valid)\n",
    "print(\"Test data RMSE:\", rfr_RMSE)\n",
    "print(\"Model training time: 2min 13s ± 1.76 s per loop (mean ± std. dev. of 5 runs, 1 loop each)\")\n",
    "print(\"Model evaluation time: 2.77 s ± 34.5 ms per loop (mean ± std. dev. of 5 runs, 1 loop each)\")"
   ]
  },
  {
   "cell_type": "markdown",
   "metadata": {},
   "source": [
    "#### LGBM Regressor"
   ]
  },
  {
   "cell_type": "code",
   "execution_count": 76,
   "metadata": {},
   "outputs": [],
   "source": [
    "lgbm_model = LGBMRegressor(boosting_type='gbdt', num_leaves=100, max_depth=-1, learning_rate=0.3, n_estimators=100, subsample_for_bin=200000, random_state=759638)\n",
    "lgbm_model.fit(features_train, target_train)\n",
    "\n",
    "prediction_valid = lgbm_model.predict(features_valid)\n",
    "lgbm_RMSE_valid = mean_squared_error(target_valid, prediction_valid, squared=False)\n",
    "\n",
    "prediction_test = lgbm_model.predict(features_test)\n",
    "lgbm_RMSE = mean_squared_error(target_test, prediction_test, squared=False)"
   ]
  },
  {
   "cell_type": "code",
   "execution_count": 77,
   "metadata": {},
   "outputs": [
    {
     "name": "stdout",
     "output_type": "stream",
     "text": [
      "8.08 s ± 244 ms per loop (mean ± std. dev. of 5 runs, 1 loop each)\n"
     ]
    }
   ],
   "source": [
    "%%timeit -r 5\n",
    "lgbm_model = LGBMRegressor(boosting_type='gbdt', num_leaves=100, max_depth=-1, learning_rate=0.3, n_estimators=100, subsample_for_bin=200000, random_state=759638)\n",
    "lgbm_model.fit(features_train, target_train)"
   ]
  },
  {
   "cell_type": "code",
   "execution_count": 78,
   "metadata": {},
   "outputs": [
    {
     "name": "stdout",
     "output_type": "stream",
     "text": [
      "1.03 s ± 26.9 ms per loop (mean ± std. dev. of 5 runs, 1 loop each)\n"
     ]
    }
   ],
   "source": [
    "%%timeit -r 5\n",
    "prediction_valid = lgbm_model.predict(features_valid)\n",
    "lgbm_RMSE = mean_squared_error(target_train, prediction_train, squared=False)"
   ]
  },
  {
   "cell_type": "code",
   "execution_count": 80,
   "metadata": {},
   "outputs": [
    {
     "name": "stdout",
     "output_type": "stream",
     "text": [
      "Gradiant Boost Decision Tree:\n",
      "Leaves: 100\n",
      "Maximum Depth: Unlimited\n",
      "Learning Rate: 0.3\n",
      "Maximum estimators: 100\n",
      "Validation data RMSE: 1738.2845762747445\n",
      "Test data RMSE: 1740.3174084649806\n",
      "Model training time: 8.08 s ± 244 ms per loop (mean ± std. dev. of 5 runs, 1 loop each)\n",
      "Model evaluation time: 1.03 s ± 26.9 ms per loop (mean ± std. dev. of 5 runs, 1 loop each)\n"
     ]
    }
   ],
   "source": [
    "print(\"Gradiant Boost Decision Tree:\")\n",
    "print(\"Leaves: 100\")\n",
    "print(\"Maximum Depth: Unlimited\")\n",
    "print(\"Learning Rate: 0.3\")\n",
    "print(\"Maximum estimators: 100\")\n",
    "print(\"Validation data RMSE:\", lgbm_RMSE_valid)\n",
    "print(\"Test data RMSE:\", lgbm_RMSE)\n",
    "print(\"Model training time: 8.08 s ± 244 ms per loop (mean ± std. dev. of 5 runs, 1 loop each)\")\n",
    "print(\"Model evaluation time: 1.03 s ± 26.9 ms per loop (mean ± std. dev. of 5 runs, 1 loop each)\")"
   ]
  },
  {
   "cell_type": "markdown",
   "metadata": {},
   "source": [
    "#### CatBoost Regressor"
   ]
  },
  {
   "cell_type": "code",
   "execution_count": 111,
   "metadata": {
    "scrolled": true
   },
   "outputs": [
    {
     "name": "stdout",
     "output_type": "stream",
     "text": [
      "0:\tlearn: 2928.2395467\ttotal: 51ms\tremaining: 5.05s\n",
      "1:\tlearn: 2509.2562876\ttotal: 101ms\tremaining: 4.94s\n",
      "2:\tlearn: 2350.8368205\ttotal: 150ms\tremaining: 4.85s\n",
      "3:\tlearn: 2259.0073576\ttotal: 199ms\tremaining: 4.79s\n",
      "4:\tlearn: 2208.9414953\ttotal: 247ms\tremaining: 4.69s\n",
      "5:\tlearn: 2178.7901448\ttotal: 289ms\tremaining: 4.53s\n",
      "6:\tlearn: 2133.9077040\ttotal: 340ms\tremaining: 4.52s\n",
      "7:\tlearn: 2114.4654014\ttotal: 385ms\tremaining: 4.42s\n",
      "8:\tlearn: 2092.1760936\ttotal: 433ms\tremaining: 4.37s\n",
      "9:\tlearn: 2072.4204759\ttotal: 480ms\tremaining: 4.32s\n",
      "10:\tlearn: 2061.6664071\ttotal: 524ms\tremaining: 4.24s\n",
      "11:\tlearn: 2047.5902996\ttotal: 574ms\tremaining: 4.21s\n",
      "12:\tlearn: 2034.0607720\ttotal: 626ms\tremaining: 4.19s\n",
      "13:\tlearn: 2025.5155880\ttotal: 671ms\tremaining: 4.12s\n",
      "14:\tlearn: 2008.7536454\ttotal: 721ms\tremaining: 4.08s\n",
      "15:\tlearn: 1998.8068215\ttotal: 770ms\tremaining: 4.04s\n",
      "16:\tlearn: 1994.0210785\ttotal: 811ms\tremaining: 3.96s\n",
      "17:\tlearn: 1987.7295859\ttotal: 853ms\tremaining: 3.88s\n",
      "18:\tlearn: 1978.1809019\ttotal: 899ms\tremaining: 3.83s\n",
      "19:\tlearn: 1968.8603464\ttotal: 945ms\tremaining: 3.78s\n",
      "20:\tlearn: 1964.7301149\ttotal: 984ms\tremaining: 3.7s\n",
      "21:\tlearn: 1958.4203823\ttotal: 1.03s\tremaining: 3.67s\n",
      "22:\tlearn: 1951.8110768\ttotal: 1.08s\tremaining: 3.62s\n",
      "23:\tlearn: 1946.8589586\ttotal: 1.12s\tremaining: 3.56s\n",
      "24:\tlearn: 1942.0958692\ttotal: 1.17s\tremaining: 3.51s\n",
      "25:\tlearn: 1938.7048056\ttotal: 1.21s\tremaining: 3.45s\n",
      "26:\tlearn: 1934.6328325\ttotal: 1.26s\tremaining: 3.41s\n",
      "27:\tlearn: 1930.9775812\ttotal: 1.31s\tremaining: 3.36s\n",
      "28:\tlearn: 1926.2186305\ttotal: 1.35s\tremaining: 3.3s\n",
      "29:\tlearn: 1922.2259836\ttotal: 1.39s\tremaining: 3.25s\n",
      "30:\tlearn: 1917.2731374\ttotal: 1.45s\tremaining: 3.22s\n",
      "31:\tlearn: 1912.2977374\ttotal: 1.5s\tremaining: 3.19s\n",
      "32:\tlearn: 1907.8995282\ttotal: 1.55s\tremaining: 3.14s\n",
      "33:\tlearn: 1904.1521002\ttotal: 1.59s\tremaining: 3.08s\n",
      "34:\tlearn: 1899.9418299\ttotal: 1.64s\tremaining: 3.05s\n",
      "35:\tlearn: 1895.1350818\ttotal: 1.69s\tremaining: 3s\n",
      "36:\tlearn: 1890.7609963\ttotal: 1.73s\tremaining: 2.95s\n",
      "37:\tlearn: 1888.1133175\ttotal: 1.77s\tremaining: 2.89s\n",
      "38:\tlearn: 1885.2401713\ttotal: 1.81s\tremaining: 2.84s\n",
      "39:\tlearn: 1881.9013913\ttotal: 1.86s\tremaining: 2.79s\n",
      "40:\tlearn: 1878.7663232\ttotal: 1.91s\tremaining: 2.75s\n",
      "41:\tlearn: 1875.9884222\ttotal: 1.96s\tremaining: 2.7s\n",
      "42:\tlearn: 1872.4451300\ttotal: 2s\tremaining: 2.65s\n",
      "43:\tlearn: 1871.2162913\ttotal: 2.04s\tremaining: 2.6s\n",
      "44:\tlearn: 1869.1192194\ttotal: 2.09s\tremaining: 2.55s\n",
      "45:\tlearn: 1866.6575301\ttotal: 2.14s\tremaining: 2.51s\n",
      "46:\tlearn: 1864.1765347\ttotal: 2.19s\tremaining: 2.47s\n",
      "47:\tlearn: 1861.7137970\ttotal: 2.24s\tremaining: 2.42s\n",
      "48:\tlearn: 1859.3471558\ttotal: 2.29s\tremaining: 2.38s\n",
      "49:\tlearn: 1855.7946164\ttotal: 2.33s\tremaining: 2.33s\n",
      "50:\tlearn: 1854.2250875\ttotal: 2.38s\tremaining: 2.28s\n",
      "51:\tlearn: 1849.6520652\ttotal: 2.42s\tremaining: 2.24s\n",
      "52:\tlearn: 1847.0941252\ttotal: 2.46s\tremaining: 2.19s\n",
      "53:\tlearn: 1844.8641336\ttotal: 2.51s\tremaining: 2.13s\n",
      "54:\tlearn: 1842.1444342\ttotal: 2.55s\tremaining: 2.09s\n",
      "55:\tlearn: 1839.0009957\ttotal: 2.6s\tremaining: 2.04s\n",
      "56:\tlearn: 1836.6447144\ttotal: 2.64s\tremaining: 1.99s\n",
      "57:\tlearn: 1834.6294630\ttotal: 2.69s\tremaining: 1.95s\n",
      "58:\tlearn: 1832.7825010\ttotal: 2.74s\tremaining: 1.91s\n",
      "59:\tlearn: 1831.3681158\ttotal: 2.79s\tremaining: 1.86s\n",
      "60:\tlearn: 1830.0345598\ttotal: 2.83s\tremaining: 1.81s\n",
      "61:\tlearn: 1827.9561234\ttotal: 2.87s\tremaining: 1.76s\n",
      "62:\tlearn: 1826.3073863\ttotal: 2.91s\tremaining: 1.71s\n",
      "63:\tlearn: 1823.4593986\ttotal: 2.96s\tremaining: 1.67s\n",
      "64:\tlearn: 1821.5776349\ttotal: 3.01s\tremaining: 1.62s\n",
      "65:\tlearn: 1818.6799727\ttotal: 3.05s\tremaining: 1.57s\n",
      "66:\tlearn: 1816.8425131\ttotal: 3.1s\tremaining: 1.53s\n",
      "67:\tlearn: 1815.0988247\ttotal: 3.15s\tremaining: 1.48s\n",
      "68:\tlearn: 1813.1561902\ttotal: 3.19s\tremaining: 1.43s\n",
      "69:\tlearn: 1810.8897441\ttotal: 3.24s\tremaining: 1.39s\n",
      "70:\tlearn: 1809.0365066\ttotal: 3.29s\tremaining: 1.34s\n",
      "71:\tlearn: 1807.9322132\ttotal: 3.33s\tremaining: 1.29s\n",
      "72:\tlearn: 1806.5165216\ttotal: 3.38s\tremaining: 1.25s\n",
      "73:\tlearn: 1805.2171572\ttotal: 3.42s\tremaining: 1.2s\n",
      "74:\tlearn: 1803.2483937\ttotal: 3.47s\tremaining: 1.16s\n",
      "75:\tlearn: 1802.4466544\ttotal: 3.51s\tremaining: 1.11s\n",
      "76:\tlearn: 1800.2592341\ttotal: 3.56s\tremaining: 1.06s\n",
      "77:\tlearn: 1798.9476241\ttotal: 3.6s\tremaining: 1.02s\n",
      "78:\tlearn: 1797.7169914\ttotal: 3.65s\tremaining: 970ms\n",
      "79:\tlearn: 1796.0337815\ttotal: 3.69s\tremaining: 923ms\n",
      "80:\tlearn: 1793.5844974\ttotal: 3.74s\tremaining: 878ms\n",
      "81:\tlearn: 1792.3634258\ttotal: 3.79s\tremaining: 832ms\n",
      "82:\tlearn: 1791.2130617\ttotal: 3.83s\tremaining: 785ms\n",
      "83:\tlearn: 1789.3215786\ttotal: 3.88s\tremaining: 739ms\n",
      "84:\tlearn: 1788.2232830\ttotal: 3.92s\tremaining: 692ms\n",
      "85:\tlearn: 1786.6550899\ttotal: 3.97s\tremaining: 646ms\n",
      "86:\tlearn: 1785.7106055\ttotal: 4.01s\tremaining: 600ms\n",
      "87:\tlearn: 1784.7029530\ttotal: 4.05s\tremaining: 553ms\n",
      "88:\tlearn: 1783.7041274\ttotal: 4.09s\tremaining: 506ms\n",
      "89:\tlearn: 1782.2035812\ttotal: 4.14s\tremaining: 460ms\n",
      "90:\tlearn: 1781.1653150\ttotal: 4.18s\tremaining: 413ms\n",
      "91:\tlearn: 1780.1344844\ttotal: 4.22s\tremaining: 367ms\n",
      "92:\tlearn: 1778.5982671\ttotal: 4.26s\tremaining: 321ms\n",
      "93:\tlearn: 1777.1924339\ttotal: 4.31s\tremaining: 275ms\n",
      "94:\tlearn: 1776.0318006\ttotal: 4.35s\tremaining: 229ms\n",
      "95:\tlearn: 1774.7724768\ttotal: 4.4s\tremaining: 183ms\n",
      "96:\tlearn: 1773.6530131\ttotal: 4.45s\tremaining: 137ms\n",
      "97:\tlearn: 1771.9421325\ttotal: 4.5s\tremaining: 91.8ms\n",
      "98:\tlearn: 1769.6094916\ttotal: 4.54s\tremaining: 45.9ms\n",
      "99:\tlearn: 1768.6142136\ttotal: 4.58s\tremaining: 0us\n"
     ]
    }
   ],
   "source": [
    "cbr_model = CatBoostRegressor(iterations=100, learning_rate=0.7, random_state=759638)\n",
    "cbr_model.fit(features_train, target_train)\n",
    "\n",
    "cbr_prediction_valid = cbr_model.predict(features_valid)\n",
    "cbr_RMSE_valid = mean_squared_error(target_valid, cbr_prediction_valid, squared=False)\n",
    "\n",
    "cbr_prediction = cbr_model.predict(features_test)\n",
    "cbr_RMSE = mean_squared_error(target_test, cbr_prediction, squared=False)"
   ]
  },
  {
   "cell_type": "code",
   "execution_count": 112,
   "metadata": {
    "scrolled": true
   },
   "outputs": [
    {
     "name": "stdout",
     "output_type": "stream",
     "text": [
      "0:\tlearn: 2928.2395467\ttotal: 55.5ms\tremaining: 5.5s\n",
      "1:\tlearn: 2509.2562876\ttotal: 104ms\tremaining: 5.08s\n",
      "2:\tlearn: 2350.8368205\ttotal: 152ms\tremaining: 4.92s\n",
      "3:\tlearn: 2259.0073576\ttotal: 201ms\tremaining: 4.82s\n",
      "4:\tlearn: 2208.9414953\ttotal: 244ms\tremaining: 4.63s\n",
      "5:\tlearn: 2178.7901448\ttotal: 285ms\tremaining: 4.46s\n",
      "6:\tlearn: 2133.9077040\ttotal: 337ms\tremaining: 4.48s\n",
      "7:\tlearn: 2114.4654014\ttotal: 384ms\tremaining: 4.42s\n",
      "8:\tlearn: 2092.1760936\ttotal: 429ms\tremaining: 4.34s\n",
      "9:\tlearn: 2072.4204759\ttotal: 476ms\tremaining: 4.28s\n",
      "10:\tlearn: 2061.6664071\ttotal: 520ms\tremaining: 4.21s\n",
      "11:\tlearn: 2047.5902996\ttotal: 562ms\tremaining: 4.12s\n",
      "12:\tlearn: 2034.0607720\ttotal: 610ms\tremaining: 4.08s\n",
      "13:\tlearn: 2025.5155880\ttotal: 653ms\tremaining: 4.01s\n",
      "14:\tlearn: 2008.7536454\ttotal: 699ms\tremaining: 3.96s\n",
      "15:\tlearn: 1998.8068215\ttotal: 749ms\tremaining: 3.93s\n",
      "16:\tlearn: 1994.0210785\ttotal: 789ms\tremaining: 3.85s\n",
      "17:\tlearn: 1987.7295859\ttotal: 832ms\tremaining: 3.79s\n",
      "18:\tlearn: 1978.1809019\ttotal: 877ms\tremaining: 3.74s\n",
      "19:\tlearn: 1968.8603464\ttotal: 923ms\tremaining: 3.69s\n",
      "20:\tlearn: 1964.7301149\ttotal: 964ms\tremaining: 3.63s\n",
      "21:\tlearn: 1958.4203823\ttotal: 1.02s\tremaining: 3.62s\n",
      "22:\tlearn: 1951.8110768\ttotal: 1.07s\tremaining: 3.57s\n",
      "23:\tlearn: 1946.8589586\ttotal: 1.1s\tremaining: 3.5s\n",
      "24:\tlearn: 1942.0958692\ttotal: 1.15s\tremaining: 3.46s\n",
      "25:\tlearn: 1938.7048056\ttotal: 1.19s\tremaining: 3.4s\n",
      "26:\tlearn: 1934.6328325\ttotal: 1.24s\tremaining: 3.35s\n",
      "27:\tlearn: 1930.9775812\ttotal: 1.28s\tremaining: 3.29s\n",
      "28:\tlearn: 1926.2186305\ttotal: 1.32s\tremaining: 3.23s\n",
      "29:\tlearn: 1922.2259836\ttotal: 1.36s\tremaining: 3.18s\n",
      "30:\tlearn: 1917.2731374\ttotal: 1.41s\tremaining: 3.14s\n",
      "31:\tlearn: 1912.2977374\ttotal: 1.46s\tremaining: 3.11s\n",
      "32:\tlearn: 1907.8995282\ttotal: 1.51s\tremaining: 3.06s\n",
      "33:\tlearn: 1904.1521002\ttotal: 1.55s\tremaining: 3.01s\n",
      "34:\tlearn: 1899.9418299\ttotal: 1.6s\tremaining: 2.97s\n",
      "35:\tlearn: 1895.1350818\ttotal: 1.65s\tremaining: 2.93s\n",
      "36:\tlearn: 1890.7609963\ttotal: 1.69s\tremaining: 2.88s\n",
      "37:\tlearn: 1888.1133175\ttotal: 1.73s\tremaining: 2.82s\n",
      "38:\tlearn: 1885.2401713\ttotal: 1.77s\tremaining: 2.77s\n",
      "39:\tlearn: 1881.9013913\ttotal: 1.82s\tremaining: 2.74s\n",
      "40:\tlearn: 1878.7663232\ttotal: 1.88s\tremaining: 2.7s\n",
      "41:\tlearn: 1875.9884222\ttotal: 1.92s\tremaining: 2.65s\n",
      "42:\tlearn: 1872.4451300\ttotal: 1.96s\tremaining: 2.6s\n",
      "43:\tlearn: 1871.2162913\ttotal: 2s\tremaining: 2.54s\n",
      "44:\tlearn: 1869.1192194\ttotal: 2.04s\tremaining: 2.5s\n",
      "45:\tlearn: 1866.6575301\ttotal: 2.09s\tremaining: 2.45s\n",
      "46:\tlearn: 1864.1765347\ttotal: 2.13s\tremaining: 2.4s\n",
      "47:\tlearn: 1861.7137970\ttotal: 2.18s\tremaining: 2.36s\n",
      "48:\tlearn: 1859.3471558\ttotal: 2.22s\tremaining: 2.31s\n",
      "49:\tlearn: 1855.7946164\ttotal: 2.27s\tremaining: 2.27s\n",
      "50:\tlearn: 1854.2250875\ttotal: 2.31s\tremaining: 2.22s\n",
      "51:\tlearn: 1849.6520652\ttotal: 2.36s\tremaining: 2.18s\n",
      "52:\tlearn: 1847.0941252\ttotal: 2.4s\tremaining: 2.13s\n",
      "53:\tlearn: 1844.8641336\ttotal: 2.44s\tremaining: 2.08s\n",
      "54:\tlearn: 1842.1444342\ttotal: 2.49s\tremaining: 2.04s\n",
      "55:\tlearn: 1839.0009957\ttotal: 2.54s\tremaining: 2s\n",
      "56:\tlearn: 1836.6447144\ttotal: 2.58s\tremaining: 1.95s\n",
      "57:\tlearn: 1834.6294630\ttotal: 2.63s\tremaining: 1.91s\n",
      "58:\tlearn: 1832.7825010\ttotal: 2.68s\tremaining: 1.86s\n",
      "59:\tlearn: 1831.3681158\ttotal: 2.73s\tremaining: 1.82s\n",
      "60:\tlearn: 1830.0345598\ttotal: 2.77s\tremaining: 1.77s\n",
      "61:\tlearn: 1827.9561234\ttotal: 2.81s\tremaining: 1.73s\n",
      "62:\tlearn: 1826.3073863\ttotal: 2.86s\tremaining: 1.68s\n",
      "63:\tlearn: 1823.4593986\ttotal: 2.9s\tremaining: 1.63s\n",
      "64:\tlearn: 1821.5776349\ttotal: 2.95s\tremaining: 1.59s\n",
      "65:\tlearn: 1818.6799727\ttotal: 2.99s\tremaining: 1.54s\n",
      "66:\tlearn: 1816.8425131\ttotal: 3.04s\tremaining: 1.5s\n",
      "67:\tlearn: 1815.0988247\ttotal: 3.08s\tremaining: 1.45s\n",
      "68:\tlearn: 1813.1561902\ttotal: 3.13s\tremaining: 1.41s\n",
      "69:\tlearn: 1810.8897441\ttotal: 3.17s\tremaining: 1.36s\n",
      "70:\tlearn: 1809.0365066\ttotal: 3.22s\tremaining: 1.32s\n",
      "71:\tlearn: 1807.9322132\ttotal: 3.26s\tremaining: 1.27s\n",
      "72:\tlearn: 1806.5165216\ttotal: 3.31s\tremaining: 1.23s\n",
      "73:\tlearn: 1805.2171572\ttotal: 3.35s\tremaining: 1.18s\n",
      "74:\tlearn: 1803.2483937\ttotal: 3.4s\tremaining: 1.13s\n",
      "75:\tlearn: 1802.4466544\ttotal: 3.44s\tremaining: 1.09s\n",
      "76:\tlearn: 1800.2592341\ttotal: 3.49s\tremaining: 1.04s\n",
      "77:\tlearn: 1798.9476241\ttotal: 3.54s\tremaining: 997ms\n",
      "78:\tlearn: 1797.7169914\ttotal: 3.58s\tremaining: 951ms\n",
      "79:\tlearn: 1796.0337815\ttotal: 3.63s\tremaining: 907ms\n",
      "80:\tlearn: 1793.5844974\ttotal: 3.68s\tremaining: 863ms\n",
      "81:\tlearn: 1792.3634258\ttotal: 3.72s\tremaining: 817ms\n",
      "82:\tlearn: 1791.2130617\ttotal: 3.77s\tremaining: 771ms\n",
      "83:\tlearn: 1789.3215786\ttotal: 3.81s\tremaining: 726ms\n",
      "84:\tlearn: 1788.2232830\ttotal: 3.85s\tremaining: 680ms\n",
      "85:\tlearn: 1786.6550899\ttotal: 3.9s\tremaining: 634ms\n",
      "86:\tlearn: 1785.7106055\ttotal: 3.94s\tremaining: 588ms\n",
      "87:\tlearn: 1784.7029530\ttotal: 3.98s\tremaining: 543ms\n",
      "88:\tlearn: 1783.7041274\ttotal: 4.03s\tremaining: 498ms\n",
      "89:\tlearn: 1782.2035812\ttotal: 4.07s\tremaining: 452ms\n",
      "90:\tlearn: 1781.1653150\ttotal: 4.11s\tremaining: 407ms\n",
      "91:\tlearn: 1780.1344844\ttotal: 4.15s\tremaining: 361ms\n",
      "92:\tlearn: 1778.5982671\ttotal: 4.2s\tremaining: 316ms\n",
      "93:\tlearn: 1777.1924339\ttotal: 4.25s\tremaining: 271ms\n",
      "94:\tlearn: 1776.0318006\ttotal: 4.29s\tremaining: 226ms\n",
      "95:\tlearn: 1774.7724768\ttotal: 4.34s\tremaining: 181ms\n",
      "96:\tlearn: 1773.6530131\ttotal: 4.39s\tremaining: 136ms\n",
      "97:\tlearn: 1771.9421325\ttotal: 4.44s\tremaining: 90.6ms\n",
      "98:\tlearn: 1769.6094916\ttotal: 4.48s\tremaining: 45.3ms\n",
      "99:\tlearn: 1768.6142136\ttotal: 4.52s\tremaining: 0us\n",
      "0:\tlearn: 2928.2395467\ttotal: 48.1ms\tremaining: 4.76s\n",
      "1:\tlearn: 2509.2562876\ttotal: 96.2ms\tremaining: 4.72s\n",
      "2:\tlearn: 2350.8368205\ttotal: 141ms\tremaining: 4.57s\n",
      "3:\tlearn: 2259.0073576\ttotal: 186ms\tremaining: 4.47s\n",
      "4:\tlearn: 2208.9414953\ttotal: 233ms\tremaining: 4.42s\n",
      "5:\tlearn: 2178.7901448\ttotal: 273ms\tremaining: 4.27s\n",
      "6:\tlearn: 2133.9077040\ttotal: 324ms\tremaining: 4.31s\n",
      "7:\tlearn: 2114.4654014\ttotal: 371ms\tremaining: 4.26s\n",
      "8:\tlearn: 2092.1760936\ttotal: 416ms\tremaining: 4.21s\n",
      "9:\tlearn: 2072.4204759\ttotal: 468ms\tremaining: 4.21s\n",
      "10:\tlearn: 2061.6664071\ttotal: 507ms\tremaining: 4.1s\n",
      "11:\tlearn: 2047.5902996\ttotal: 551ms\tremaining: 4.04s\n",
      "12:\tlearn: 2034.0607720\ttotal: 601ms\tremaining: 4.02s\n",
      "13:\tlearn: 2025.5155880\ttotal: 645ms\tremaining: 3.96s\n",
      "14:\tlearn: 2008.7536454\ttotal: 696ms\tremaining: 3.94s\n",
      "15:\tlearn: 1998.8068215\ttotal: 745ms\tremaining: 3.91s\n",
      "16:\tlearn: 1994.0210785\ttotal: 784ms\tremaining: 3.83s\n",
      "17:\tlearn: 1987.7295859\ttotal: 826ms\tremaining: 3.76s\n",
      "18:\tlearn: 1978.1809019\ttotal: 868ms\tremaining: 3.7s\n",
      "19:\tlearn: 1968.8603464\ttotal: 913ms\tremaining: 3.65s\n",
      "20:\tlearn: 1964.7301149\ttotal: 953ms\tremaining: 3.58s\n",
      "21:\tlearn: 1958.4203823\ttotal: 1s\tremaining: 3.55s\n",
      "22:\tlearn: 1951.8110768\ttotal: 1.05s\tremaining: 3.51s\n",
      "23:\tlearn: 1946.8589586\ttotal: 1.09s\tremaining: 3.46s\n",
      "24:\tlearn: 1942.0958692\ttotal: 1.14s\tremaining: 3.41s\n",
      "25:\tlearn: 1938.7048056\ttotal: 1.18s\tremaining: 3.36s\n",
      "26:\tlearn: 1934.6328325\ttotal: 1.22s\tremaining: 3.31s\n",
      "27:\tlearn: 1930.9775812\ttotal: 1.27s\tremaining: 3.26s\n",
      "28:\tlearn: 1926.2186305\ttotal: 1.31s\tremaining: 3.21s\n",
      "29:\tlearn: 1922.2259836\ttotal: 1.35s\tremaining: 3.16s\n",
      "30:\tlearn: 1917.2731374\ttotal: 1.41s\tremaining: 3.13s\n",
      "31:\tlearn: 1912.2977374\ttotal: 1.46s\tremaining: 3.1s\n",
      "32:\tlearn: 1907.8995282\ttotal: 1.51s\tremaining: 3.06s\n",
      "33:\tlearn: 1904.1521002\ttotal: 1.55s\tremaining: 3s\n",
      "34:\tlearn: 1899.9418299\ttotal: 1.6s\tremaining: 2.96s\n",
      "35:\tlearn: 1895.1350818\ttotal: 1.64s\tremaining: 2.91s\n",
      "36:\tlearn: 1890.7609963\ttotal: 1.69s\tremaining: 2.88s\n",
      "37:\tlearn: 1888.1133175\ttotal: 1.74s\tremaining: 2.84s\n",
      "38:\tlearn: 1885.2401713\ttotal: 1.78s\tremaining: 2.78s\n",
      "39:\tlearn: 1881.9013913\ttotal: 1.82s\tremaining: 2.73s\n",
      "40:\tlearn: 1878.7663232\ttotal: 1.87s\tremaining: 2.69s\n",
      "41:\tlearn: 1875.9884222\ttotal: 1.91s\tremaining: 2.64s\n",
      "42:\tlearn: 1872.4451300\ttotal: 1.96s\tremaining: 2.59s\n",
      "43:\tlearn: 1871.2162913\ttotal: 2s\tremaining: 2.54s\n",
      "44:\tlearn: 1869.1192194\ttotal: 2.04s\tremaining: 2.49s\n",
      "45:\tlearn: 1866.6575301\ttotal: 2.09s\tremaining: 2.45s\n",
      "46:\tlearn: 1864.1765347\ttotal: 2.13s\tremaining: 2.4s\n",
      "47:\tlearn: 1861.7137970\ttotal: 2.18s\tremaining: 2.36s\n",
      "48:\tlearn: 1859.3471558\ttotal: 2.22s\tremaining: 2.31s\n",
      "49:\tlearn: 1855.7946164\ttotal: 2.27s\tremaining: 2.27s\n",
      "50:\tlearn: 1854.2250875\ttotal: 2.31s\tremaining: 2.22s\n",
      "51:\tlearn: 1849.6520652\ttotal: 2.35s\tremaining: 2.17s\n",
      "52:\tlearn: 1847.0941252\ttotal: 2.4s\tremaining: 2.12s\n",
      "53:\tlearn: 1844.8641336\ttotal: 2.44s\tremaining: 2.08s\n",
      "54:\tlearn: 1842.1444342\ttotal: 2.48s\tremaining: 2.03s\n",
      "55:\tlearn: 1839.0009957\ttotal: 2.53s\tremaining: 1.99s\n",
      "56:\tlearn: 1836.6447144\ttotal: 2.58s\tremaining: 1.94s\n",
      "57:\tlearn: 1834.6294630\ttotal: 2.62s\tremaining: 1.89s\n",
      "58:\tlearn: 1832.7825010\ttotal: 2.67s\tremaining: 1.85s\n",
      "59:\tlearn: 1831.3681158\ttotal: 2.71s\tremaining: 1.81s\n",
      "60:\tlearn: 1830.0345598\ttotal: 2.76s\tremaining: 1.76s\n",
      "61:\tlearn: 1827.9561234\ttotal: 2.8s\tremaining: 1.72s\n",
      "62:\tlearn: 1826.3073863\ttotal: 2.85s\tremaining: 1.67s\n",
      "63:\tlearn: 1823.4593986\ttotal: 2.9s\tremaining: 1.63s\n",
      "64:\tlearn: 1821.5776349\ttotal: 2.94s\tremaining: 1.58s\n",
      "65:\tlearn: 1818.6799727\ttotal: 2.98s\tremaining: 1.54s\n",
      "66:\tlearn: 1816.8425131\ttotal: 3.03s\tremaining: 1.49s\n",
      "67:\tlearn: 1815.0988247\ttotal: 3.08s\tremaining: 1.45s\n",
      "68:\tlearn: 1813.1561902\ttotal: 3.12s\tremaining: 1.4s\n",
      "69:\tlearn: 1810.8897441\ttotal: 3.17s\tremaining: 1.36s\n",
      "70:\tlearn: 1809.0365066\ttotal: 3.22s\tremaining: 1.31s\n",
      "71:\tlearn: 1807.9322132\ttotal: 3.25s\tremaining: 1.26s\n",
      "72:\tlearn: 1806.5165216\ttotal: 3.3s\tremaining: 1.22s\n",
      "73:\tlearn: 1805.2171572\ttotal: 3.35s\tremaining: 1.18s\n",
      "74:\tlearn: 1803.2483937\ttotal: 3.39s\tremaining: 1.13s\n",
      "75:\tlearn: 1802.4466544\ttotal: 3.43s\tremaining: 1.08s\n",
      "76:\tlearn: 1800.2592341\ttotal: 3.48s\tremaining: 1.04s\n",
      "77:\tlearn: 1798.9476241\ttotal: 3.53s\tremaining: 995ms\n",
      "78:\tlearn: 1797.7169914\ttotal: 3.57s\tremaining: 949ms\n",
      "79:\tlearn: 1796.0337815\ttotal: 3.61s\tremaining: 903ms\n",
      "80:\tlearn: 1793.5844974\ttotal: 3.66s\tremaining: 859ms\n",
      "81:\tlearn: 1792.3634258\ttotal: 3.7s\tremaining: 813ms\n",
      "82:\tlearn: 1791.2130617\ttotal: 3.75s\tremaining: 768ms\n",
      "83:\tlearn: 1789.3215786\ttotal: 3.8s\tremaining: 723ms\n",
      "84:\tlearn: 1788.2232830\ttotal: 3.84s\tremaining: 678ms\n",
      "85:\tlearn: 1786.6550899\ttotal: 3.89s\tremaining: 633ms\n",
      "86:\tlearn: 1785.7106055\ttotal: 3.92s\tremaining: 587ms\n",
      "87:\tlearn: 1784.7029530\ttotal: 3.97s\tremaining: 541ms\n",
      "88:\tlearn: 1783.7041274\ttotal: 4.01s\tremaining: 496ms\n",
      "89:\tlearn: 1782.2035812\ttotal: 4.06s\tremaining: 451ms\n",
      "90:\tlearn: 1781.1653150\ttotal: 4.09s\tremaining: 405ms\n",
      "91:\tlearn: 1780.1344844\ttotal: 4.14s\tremaining: 360ms\n",
      "92:\tlearn: 1778.5982671\ttotal: 4.18s\tremaining: 315ms\n",
      "93:\tlearn: 1777.1924339\ttotal: 4.22s\tremaining: 270ms\n",
      "94:\tlearn: 1776.0318006\ttotal: 4.27s\tremaining: 225ms\n",
      "95:\tlearn: 1774.7724768\ttotal: 4.32s\tremaining: 180ms\n",
      "96:\tlearn: 1773.6530131\ttotal: 4.36s\tremaining: 135ms\n",
      "97:\tlearn: 1771.9421325\ttotal: 4.41s\tremaining: 90ms\n",
      "98:\tlearn: 1769.6094916\ttotal: 4.45s\tremaining: 45ms\n",
      "99:\tlearn: 1768.6142136\ttotal: 4.49s\tremaining: 0us\n",
      "0:\tlearn: 2928.2395467\ttotal: 47.8ms\tremaining: 4.73s\n",
      "1:\tlearn: 2509.2562876\ttotal: 94.6ms\tremaining: 4.63s\n",
      "2:\tlearn: 2350.8368205\ttotal: 139ms\tremaining: 4.51s\n",
      "3:\tlearn: 2259.0073576\ttotal: 185ms\tremaining: 4.44s\n",
      "4:\tlearn: 2208.9414953\ttotal: 227ms\tremaining: 4.32s\n",
      "5:\tlearn: 2178.7901448\ttotal: 268ms\tremaining: 4.19s\n",
      "6:\tlearn: 2133.9077040\ttotal: 322ms\tremaining: 4.28s\n",
      "7:\tlearn: 2114.4654014\ttotal: 374ms\tremaining: 4.3s\n",
      "8:\tlearn: 2092.1760936\ttotal: 418ms\tremaining: 4.23s\n",
      "9:\tlearn: 2072.4204759\ttotal: 469ms\tremaining: 4.22s\n",
      "10:\tlearn: 2061.6664071\ttotal: 513ms\tremaining: 4.15s\n",
      "11:\tlearn: 2047.5902996\ttotal: 558ms\tremaining: 4.09s\n",
      "12:\tlearn: 2034.0607720\ttotal: 605ms\tremaining: 4.05s\n",
      "13:\tlearn: 2025.5155880\ttotal: 653ms\tremaining: 4.01s\n",
      "14:\tlearn: 2008.7536454\ttotal: 699ms\tremaining: 3.96s\n",
      "15:\tlearn: 1998.8068215\ttotal: 750ms\tremaining: 3.94s\n",
      "16:\tlearn: 1994.0210785\ttotal: 788ms\tremaining: 3.85s\n",
      "17:\tlearn: 1987.7295859\ttotal: 832ms\tremaining: 3.79s\n",
      "18:\tlearn: 1978.1809019\ttotal: 872ms\tremaining: 3.72s\n",
      "19:\tlearn: 1968.8603464\ttotal: 916ms\tremaining: 3.67s\n",
      "20:\tlearn: 1964.7301149\ttotal: 959ms\tremaining: 3.61s\n",
      "21:\tlearn: 1958.4203823\ttotal: 1.01s\tremaining: 3.58s\n",
      "22:\tlearn: 1951.8110768\ttotal: 1.06s\tremaining: 3.54s\n",
      "23:\tlearn: 1946.8589586\ttotal: 1.1s\tremaining: 3.49s\n",
      "24:\tlearn: 1942.0958692\ttotal: 1.15s\tremaining: 3.45s\n",
      "25:\tlearn: 1938.7048056\ttotal: 1.19s\tremaining: 3.39s\n",
      "26:\tlearn: 1934.6328325\ttotal: 1.23s\tremaining: 3.33s\n",
      "27:\tlearn: 1930.9775812\ttotal: 1.27s\tremaining: 3.27s\n",
      "28:\tlearn: 1926.2186305\ttotal: 1.31s\tremaining: 3.21s\n",
      "29:\tlearn: 1922.2259836\ttotal: 1.35s\tremaining: 3.16s\n",
      "30:\tlearn: 1917.2731374\ttotal: 1.4s\tremaining: 3.12s\n",
      "31:\tlearn: 1912.2977374\ttotal: 1.46s\tremaining: 3.1s\n",
      "32:\tlearn: 1907.8995282\ttotal: 1.5s\tremaining: 3.05s\n",
      "33:\tlearn: 1904.1521002\ttotal: 1.54s\tremaining: 3s\n",
      "34:\tlearn: 1899.9418299\ttotal: 1.59s\tremaining: 2.95s\n",
      "35:\tlearn: 1895.1350818\ttotal: 1.63s\tremaining: 2.9s\n",
      "36:\tlearn: 1890.7609963\ttotal: 1.68s\tremaining: 2.86s\n",
      "37:\tlearn: 1888.1133175\ttotal: 1.73s\tremaining: 2.82s\n",
      "38:\tlearn: 1885.2401713\ttotal: 1.77s\tremaining: 2.77s\n",
      "39:\tlearn: 1881.9013913\ttotal: 1.82s\tremaining: 2.73s\n",
      "40:\tlearn: 1878.7663232\ttotal: 1.87s\tremaining: 2.7s\n",
      "41:\tlearn: 1875.9884222\ttotal: 1.92s\tremaining: 2.66s\n",
      "42:\tlearn: 1872.4451300\ttotal: 1.97s\tremaining: 2.61s\n",
      "43:\tlearn: 1871.2162913\ttotal: 2.01s\tremaining: 2.56s\n",
      "44:\tlearn: 1869.1192194\ttotal: 2.06s\tremaining: 2.52s\n",
      "45:\tlearn: 1866.6575301\ttotal: 2.1s\tremaining: 2.47s\n",
      "46:\tlearn: 1864.1765347\ttotal: 2.15s\tremaining: 2.43s\n",
      "47:\tlearn: 1861.7137970\ttotal: 2.2s\tremaining: 2.38s\n",
      "48:\tlearn: 1859.3471558\ttotal: 2.24s\tremaining: 2.34s\n",
      "49:\tlearn: 1855.7946164\ttotal: 2.29s\tremaining: 2.29s\n",
      "50:\tlearn: 1854.2250875\ttotal: 2.34s\tremaining: 2.25s\n",
      "51:\tlearn: 1849.6520652\ttotal: 2.38s\tremaining: 2.2s\n",
      "52:\tlearn: 1847.0941252\ttotal: 2.43s\tremaining: 2.15s\n",
      "53:\tlearn: 1844.8641336\ttotal: 2.47s\tremaining: 2.1s\n",
      "54:\tlearn: 1842.1444342\ttotal: 2.52s\tremaining: 2.06s\n",
      "55:\tlearn: 1839.0009957\ttotal: 2.57s\tremaining: 2.02s\n",
      "56:\tlearn: 1836.6447144\ttotal: 2.61s\tremaining: 1.97s\n",
      "57:\tlearn: 1834.6294630\ttotal: 2.66s\tremaining: 1.93s\n",
      "58:\tlearn: 1832.7825010\ttotal: 2.72s\tremaining: 1.89s\n",
      "59:\tlearn: 1831.3681158\ttotal: 2.77s\tremaining: 1.84s\n",
      "60:\tlearn: 1830.0345598\ttotal: 2.81s\tremaining: 1.79s\n",
      "61:\tlearn: 1827.9561234\ttotal: 2.85s\tremaining: 1.75s\n",
      "62:\tlearn: 1826.3073863\ttotal: 2.89s\tremaining: 1.7s\n",
      "63:\tlearn: 1823.4593986\ttotal: 2.94s\tremaining: 1.65s\n",
      "64:\tlearn: 1821.5776349\ttotal: 2.98s\tremaining: 1.61s\n",
      "65:\tlearn: 1818.6799727\ttotal: 3.03s\tremaining: 1.56s\n",
      "66:\tlearn: 1816.8425131\ttotal: 3.07s\tremaining: 1.51s\n",
      "67:\tlearn: 1815.0988247\ttotal: 3.12s\tremaining: 1.47s\n",
      "68:\tlearn: 1813.1561902\ttotal: 3.16s\tremaining: 1.42s\n",
      "69:\tlearn: 1810.8897441\ttotal: 3.21s\tremaining: 1.38s\n",
      "70:\tlearn: 1809.0365066\ttotal: 3.26s\tremaining: 1.33s\n",
      "71:\tlearn: 1807.9322132\ttotal: 3.3s\tremaining: 1.28s\n",
      "72:\tlearn: 1806.5165216\ttotal: 3.35s\tremaining: 1.24s\n",
      "73:\tlearn: 1805.2171572\ttotal: 3.4s\tremaining: 1.19s\n",
      "74:\tlearn: 1803.2483937\ttotal: 3.44s\tremaining: 1.15s\n",
      "75:\tlearn: 1802.4466544\ttotal: 3.49s\tremaining: 1.1s\n",
      "76:\tlearn: 1800.2592341\ttotal: 3.54s\tremaining: 1.06s\n",
      "77:\tlearn: 1798.9476241\ttotal: 3.58s\tremaining: 1.01s\n",
      "78:\tlearn: 1797.7169914\ttotal: 3.63s\tremaining: 966ms\n",
      "79:\tlearn: 1796.0337815\ttotal: 3.68s\tremaining: 921ms\n",
      "80:\tlearn: 1793.5844974\ttotal: 3.73s\tremaining: 874ms\n",
      "81:\tlearn: 1792.3634258\ttotal: 3.77s\tremaining: 827ms\n",
      "82:\tlearn: 1791.2130617\ttotal: 3.81s\tremaining: 782ms\n",
      "83:\tlearn: 1789.3215786\ttotal: 3.86s\tremaining: 736ms\n",
      "84:\tlearn: 1788.2232830\ttotal: 3.9s\tremaining: 689ms\n",
      "85:\tlearn: 1786.6550899\ttotal: 3.95s\tremaining: 643ms\n",
      "86:\tlearn: 1785.7106055\ttotal: 3.99s\tremaining: 596ms\n",
      "87:\tlearn: 1784.7029530\ttotal: 4.03s\tremaining: 550ms\n",
      "88:\tlearn: 1783.7041274\ttotal: 4.07s\tremaining: 503ms\n",
      "89:\tlearn: 1782.2035812\ttotal: 4.11s\tremaining: 457ms\n",
      "90:\tlearn: 1781.1653150\ttotal: 4.15s\tremaining: 411ms\n",
      "91:\tlearn: 1780.1344844\ttotal: 4.19s\tremaining: 365ms\n",
      "92:\tlearn: 1778.5982671\ttotal: 4.24s\tremaining: 319ms\n",
      "93:\tlearn: 1777.1924339\ttotal: 4.28s\tremaining: 273ms\n",
      "94:\tlearn: 1776.0318006\ttotal: 4.33s\tremaining: 228ms\n",
      "95:\tlearn: 1774.7724768\ttotal: 4.38s\tremaining: 182ms\n",
      "96:\tlearn: 1773.6530131\ttotal: 4.42s\tremaining: 137ms\n",
      "97:\tlearn: 1771.9421325\ttotal: 4.47s\tremaining: 91.2ms\n",
      "98:\tlearn: 1769.6094916\ttotal: 4.52s\tremaining: 45.6ms\n",
      "99:\tlearn: 1768.6142136\ttotal: 4.56s\tremaining: 0us\n",
      "0:\tlearn: 2928.2395467\ttotal: 48.3ms\tremaining: 4.78s\n",
      "1:\tlearn: 2509.2562876\ttotal: 96.6ms\tremaining: 4.73s\n",
      "2:\tlearn: 2350.8368205\ttotal: 148ms\tremaining: 4.77s\n",
      "3:\tlearn: 2259.0073576\ttotal: 194ms\tremaining: 4.66s\n",
      "4:\tlearn: 2208.9414953\ttotal: 236ms\tremaining: 4.48s\n",
      "5:\tlearn: 2178.7901448\ttotal: 276ms\tremaining: 4.32s\n",
      "6:\tlearn: 2133.9077040\ttotal: 328ms\tremaining: 4.36s\n",
      "7:\tlearn: 2114.4654014\ttotal: 372ms\tremaining: 4.28s\n",
      "8:\tlearn: 2092.1760936\ttotal: 418ms\tremaining: 4.22s\n",
      "9:\tlearn: 2072.4204759\ttotal: 467ms\tremaining: 4.2s\n",
      "10:\tlearn: 2061.6664071\ttotal: 512ms\tremaining: 4.14s\n",
      "11:\tlearn: 2047.5902996\ttotal: 560ms\tremaining: 4.11s\n",
      "12:\tlearn: 2034.0607720\ttotal: 610ms\tremaining: 4.08s\n",
      "13:\tlearn: 2025.5155880\ttotal: 652ms\tremaining: 4.01s\n",
      "14:\tlearn: 2008.7536454\ttotal: 699ms\tremaining: 3.96s\n",
      "15:\tlearn: 1998.8068215\ttotal: 746ms\tremaining: 3.92s\n",
      "16:\tlearn: 1994.0210785\ttotal: 783ms\tremaining: 3.82s\n",
      "17:\tlearn: 1987.7295859\ttotal: 822ms\tremaining: 3.75s\n",
      "18:\tlearn: 1978.1809019\ttotal: 862ms\tremaining: 3.67s\n",
      "19:\tlearn: 1968.8603464\ttotal: 907ms\tremaining: 3.63s\n",
      "20:\tlearn: 1964.7301149\ttotal: 945ms\tremaining: 3.55s\n",
      "21:\tlearn: 1958.4203823\ttotal: 993ms\tremaining: 3.52s\n",
      "22:\tlearn: 1951.8110768\ttotal: 1.04s\tremaining: 3.48s\n",
      "23:\tlearn: 1946.8589586\ttotal: 1.08s\tremaining: 3.43s\n",
      "24:\tlearn: 1942.0958692\ttotal: 1.13s\tremaining: 3.4s\n",
      "25:\tlearn: 1938.7048056\ttotal: 1.18s\tremaining: 3.35s\n",
      "26:\tlearn: 1934.6328325\ttotal: 1.22s\tremaining: 3.29s\n",
      "27:\tlearn: 1930.9775812\ttotal: 1.26s\tremaining: 3.24s\n",
      "28:\tlearn: 1926.2186305\ttotal: 1.3s\tremaining: 3.19s\n",
      "29:\tlearn: 1922.2259836\ttotal: 1.34s\tremaining: 3.13s\n",
      "30:\tlearn: 1917.2731374\ttotal: 1.39s\tremaining: 3.1s\n",
      "31:\tlearn: 1912.2977374\ttotal: 1.45s\tremaining: 3.08s\n",
      "32:\tlearn: 1907.8995282\ttotal: 1.5s\tremaining: 3.05s\n",
      "33:\tlearn: 1904.1521002\ttotal: 1.54s\tremaining: 3s\n",
      "34:\tlearn: 1899.9418299\ttotal: 1.59s\tremaining: 2.96s\n",
      "35:\tlearn: 1895.1350818\ttotal: 1.64s\tremaining: 2.91s\n",
      "36:\tlearn: 1890.7609963\ttotal: 1.68s\tremaining: 2.87s\n",
      "37:\tlearn: 1888.1133175\ttotal: 1.72s\tremaining: 2.81s\n",
      "38:\tlearn: 1885.2401713\ttotal: 1.76s\tremaining: 2.75s\n",
      "39:\tlearn: 1881.9013913\ttotal: 1.8s\tremaining: 2.71s\n",
      "40:\tlearn: 1878.7663232\ttotal: 1.85s\tremaining: 2.66s\n",
      "41:\tlearn: 1875.9884222\ttotal: 1.89s\tremaining: 2.61s\n",
      "42:\tlearn: 1872.4451300\ttotal: 1.94s\tremaining: 2.57s\n",
      "43:\tlearn: 1871.2162913\ttotal: 1.98s\tremaining: 2.52s\n",
      "44:\tlearn: 1869.1192194\ttotal: 2.02s\tremaining: 2.47s\n",
      "45:\tlearn: 1866.6575301\ttotal: 2.07s\tremaining: 2.43s\n",
      "46:\tlearn: 1864.1765347\ttotal: 2.11s\tremaining: 2.38s\n",
      "47:\tlearn: 1861.7137970\ttotal: 2.17s\tremaining: 2.35s\n",
      "48:\tlearn: 1859.3471558\ttotal: 2.21s\tremaining: 2.3s\n",
      "49:\tlearn: 1855.7946164\ttotal: 2.26s\tremaining: 2.26s\n",
      "50:\tlearn: 1854.2250875\ttotal: 2.31s\tremaining: 2.22s\n",
      "51:\tlearn: 1849.6520652\ttotal: 2.36s\tremaining: 2.18s\n",
      "52:\tlearn: 1847.0941252\ttotal: 2.4s\tremaining: 2.13s\n",
      "53:\tlearn: 1844.8641336\ttotal: 2.45s\tremaining: 2.09s\n",
      "54:\tlearn: 1842.1444342\ttotal: 2.5s\tremaining: 2.04s\n",
      "55:\tlearn: 1839.0009957\ttotal: 2.54s\tremaining: 2s\n",
      "56:\tlearn: 1836.6447144\ttotal: 2.58s\tremaining: 1.95s\n",
      "57:\tlearn: 1834.6294630\ttotal: 2.63s\tremaining: 1.91s\n",
      "58:\tlearn: 1832.7825010\ttotal: 2.68s\tremaining: 1.86s\n",
      "59:\tlearn: 1831.3681158\ttotal: 2.73s\tremaining: 1.82s\n",
      "60:\tlearn: 1830.0345598\ttotal: 2.77s\tremaining: 1.77s\n",
      "61:\tlearn: 1827.9561234\ttotal: 2.81s\tremaining: 1.72s\n",
      "62:\tlearn: 1826.3073863\ttotal: 2.85s\tremaining: 1.67s\n",
      "63:\tlearn: 1823.4593986\ttotal: 2.9s\tremaining: 1.63s\n",
      "64:\tlearn: 1821.5776349\ttotal: 2.94s\tremaining: 1.58s\n",
      "65:\tlearn: 1818.6799727\ttotal: 2.98s\tremaining: 1.54s\n",
      "66:\tlearn: 1816.8425131\ttotal: 3.03s\tremaining: 1.49s\n",
      "67:\tlearn: 1815.0988247\ttotal: 3.08s\tremaining: 1.45s\n",
      "68:\tlearn: 1813.1561902\ttotal: 3.12s\tremaining: 1.4s\n",
      "69:\tlearn: 1810.8897441\ttotal: 3.17s\tremaining: 1.36s\n",
      "70:\tlearn: 1809.0365066\ttotal: 3.22s\tremaining: 1.31s\n",
      "71:\tlearn: 1807.9322132\ttotal: 3.26s\tremaining: 1.27s\n",
      "72:\tlearn: 1806.5165216\ttotal: 3.31s\tremaining: 1.22s\n",
      "73:\tlearn: 1805.2171572\ttotal: 3.35s\tremaining: 1.18s\n",
      "74:\tlearn: 1803.2483937\ttotal: 3.39s\tremaining: 1.13s\n",
      "75:\tlearn: 1802.4466544\ttotal: 3.44s\tremaining: 1.08s\n",
      "76:\tlearn: 1800.2592341\ttotal: 3.48s\tremaining: 1.04s\n",
      "77:\tlearn: 1798.9476241\ttotal: 3.53s\tremaining: 996ms\n",
      "78:\tlearn: 1797.7169914\ttotal: 3.57s\tremaining: 950ms\n",
      "79:\tlearn: 1796.0337815\ttotal: 3.62s\tremaining: 905ms\n",
      "80:\tlearn: 1793.5844974\ttotal: 3.66s\tremaining: 860ms\n",
      "81:\tlearn: 1792.3634258\ttotal: 3.72s\tremaining: 816ms\n",
      "82:\tlearn: 1791.2130617\ttotal: 3.76s\tremaining: 771ms\n",
      "83:\tlearn: 1789.3215786\ttotal: 3.81s\tremaining: 726ms\n",
      "84:\tlearn: 1788.2232830\ttotal: 3.85s\tremaining: 680ms\n",
      "85:\tlearn: 1786.6550899\ttotal: 3.9s\tremaining: 635ms\n",
      "86:\tlearn: 1785.7106055\ttotal: 3.94s\tremaining: 588ms\n",
      "87:\tlearn: 1784.7029530\ttotal: 3.98s\tremaining: 543ms\n",
      "88:\tlearn: 1783.7041274\ttotal: 4.02s\tremaining: 497ms\n",
      "89:\tlearn: 1782.2035812\ttotal: 4.07s\tremaining: 452ms\n",
      "90:\tlearn: 1781.1653150\ttotal: 4.11s\tremaining: 407ms\n",
      "91:\tlearn: 1780.1344844\ttotal: 4.16s\tremaining: 361ms\n",
      "92:\tlearn: 1778.5982671\ttotal: 4.2s\tremaining: 316ms\n",
      "93:\tlearn: 1777.1924339\ttotal: 4.25s\tremaining: 271ms\n",
      "94:\tlearn: 1776.0318006\ttotal: 4.29s\tremaining: 226ms\n",
      "95:\tlearn: 1774.7724768\ttotal: 4.33s\tremaining: 181ms\n",
      "96:\tlearn: 1773.6530131\ttotal: 4.38s\tremaining: 135ms\n",
      "97:\tlearn: 1771.9421325\ttotal: 4.43s\tremaining: 90.3ms\n",
      "98:\tlearn: 1769.6094916\ttotal: 4.47s\tremaining: 45.2ms\n",
      "99:\tlearn: 1768.6142136\ttotal: 4.51s\tremaining: 0us\n",
      "0:\tlearn: 2928.2395467\ttotal: 47ms\tremaining: 4.66s\n",
      "1:\tlearn: 2509.2562876\ttotal: 95.5ms\tremaining: 4.68s\n",
      "2:\tlearn: 2350.8368205\ttotal: 144ms\tremaining: 4.67s\n",
      "3:\tlearn: 2259.0073576\ttotal: 195ms\tremaining: 4.67s\n",
      "4:\tlearn: 2208.9414953\ttotal: 239ms\tremaining: 4.53s\n",
      "5:\tlearn: 2178.7901448\ttotal: 280ms\tremaining: 4.39s\n",
      "6:\tlearn: 2133.9077040\ttotal: 334ms\tremaining: 4.44s\n",
      "7:\tlearn: 2114.4654014\ttotal: 388ms\tremaining: 4.46s\n",
      "8:\tlearn: 2092.1760936\ttotal: 437ms\tremaining: 4.42s\n",
      "9:\tlearn: 2072.4204759\ttotal: 486ms\tremaining: 4.37s\n",
      "10:\tlearn: 2061.6664071\ttotal: 528ms\tremaining: 4.27s\n",
      "11:\tlearn: 2047.5902996\ttotal: 570ms\tremaining: 4.18s\n",
      "12:\tlearn: 2034.0607720\ttotal: 619ms\tremaining: 4.14s\n",
      "13:\tlearn: 2025.5155880\ttotal: 664ms\tremaining: 4.08s\n",
      "14:\tlearn: 2008.7536454\ttotal: 711ms\tremaining: 4.03s\n",
      "15:\tlearn: 1998.8068215\ttotal: 756ms\tremaining: 3.97s\n",
      "16:\tlearn: 1994.0210785\ttotal: 796ms\tremaining: 3.89s\n",
      "17:\tlearn: 1987.7295859\ttotal: 839ms\tremaining: 3.82s\n",
      "18:\tlearn: 1978.1809019\ttotal: 881ms\tremaining: 3.76s\n",
      "19:\tlearn: 1968.8603464\ttotal: 925ms\tremaining: 3.7s\n",
      "20:\tlearn: 1964.7301149\ttotal: 967ms\tremaining: 3.64s\n",
      "21:\tlearn: 1958.4203823\ttotal: 1.02s\tremaining: 3.61s\n",
      "22:\tlearn: 1951.8110768\ttotal: 1.07s\tremaining: 3.57s\n",
      "23:\tlearn: 1946.8589586\ttotal: 1.11s\tremaining: 3.52s\n",
      "24:\tlearn: 1942.0958692\ttotal: 1.15s\tremaining: 3.46s\n",
      "25:\tlearn: 1938.7048056\ttotal: 1.2s\tremaining: 3.41s\n",
      "26:\tlearn: 1934.6328325\ttotal: 1.24s\tremaining: 3.36s\n",
      "27:\tlearn: 1930.9775812\ttotal: 1.28s\tremaining: 3.3s\n",
      "28:\tlearn: 1926.2186305\ttotal: 1.33s\tremaining: 3.25s\n",
      "29:\tlearn: 1922.2259836\ttotal: 1.37s\tremaining: 3.2s\n",
      "30:\tlearn: 1917.2731374\ttotal: 1.42s\tremaining: 3.17s\n",
      "31:\tlearn: 1912.2977374\ttotal: 1.48s\tremaining: 3.14s\n",
      "32:\tlearn: 1907.8995282\ttotal: 1.53s\tremaining: 3.1s\n",
      "33:\tlearn: 1904.1521002\ttotal: 1.57s\tremaining: 3.04s\n",
      "34:\tlearn: 1899.9418299\ttotal: 1.62s\tremaining: 3.01s\n",
      "35:\tlearn: 1895.1350818\ttotal: 1.67s\tremaining: 2.98s\n",
      "36:\tlearn: 1890.7609963\ttotal: 1.72s\tremaining: 2.93s\n",
      "37:\tlearn: 1888.1133175\ttotal: 1.76s\tremaining: 2.87s\n",
      "38:\tlearn: 1885.2401713\ttotal: 1.8s\tremaining: 2.82s\n",
      "39:\tlearn: 1881.9013913\ttotal: 1.84s\tremaining: 2.76s\n",
      "40:\tlearn: 1878.7663232\ttotal: 1.89s\tremaining: 2.72s\n",
      "41:\tlearn: 1875.9884222\ttotal: 1.94s\tremaining: 2.68s\n",
      "42:\tlearn: 1872.4451300\ttotal: 1.98s\tremaining: 2.63s\n",
      "43:\tlearn: 1871.2162913\ttotal: 2.02s\tremaining: 2.57s\n",
      "44:\tlearn: 1869.1192194\ttotal: 2.06s\tremaining: 2.52s\n",
      "45:\tlearn: 1866.6575301\ttotal: 2.11s\tremaining: 2.48s\n",
      "46:\tlearn: 1864.1765347\ttotal: 2.15s\tremaining: 2.43s\n",
      "47:\tlearn: 1861.7137970\ttotal: 2.2s\tremaining: 2.38s\n",
      "48:\tlearn: 1859.3471558\ttotal: 2.25s\tremaining: 2.34s\n",
      "49:\tlearn: 1855.7946164\ttotal: 2.29s\tremaining: 2.29s\n",
      "50:\tlearn: 1854.2250875\ttotal: 2.34s\tremaining: 2.25s\n",
      "51:\tlearn: 1849.6520652\ttotal: 2.38s\tremaining: 2.2s\n",
      "52:\tlearn: 1847.0941252\ttotal: 2.42s\tremaining: 2.15s\n",
      "53:\tlearn: 1844.8641336\ttotal: 2.46s\tremaining: 2.1s\n",
      "54:\tlearn: 1842.1444342\ttotal: 2.5s\tremaining: 2.05s\n",
      "55:\tlearn: 1839.0009957\ttotal: 2.56s\tremaining: 2.01s\n",
      "56:\tlearn: 1836.6447144\ttotal: 2.6s\tremaining: 1.96s\n",
      "57:\tlearn: 1834.6294630\ttotal: 2.65s\tremaining: 1.92s\n",
      "58:\tlearn: 1832.7825010\ttotal: 2.7s\tremaining: 1.88s\n",
      "59:\tlearn: 1831.3681158\ttotal: 2.74s\tremaining: 1.83s\n",
      "60:\tlearn: 1830.0345598\ttotal: 2.79s\tremaining: 1.78s\n",
      "61:\tlearn: 1827.9561234\ttotal: 2.83s\tremaining: 1.73s\n",
      "62:\tlearn: 1826.3073863\ttotal: 2.87s\tremaining: 1.69s\n",
      "63:\tlearn: 1823.4593986\ttotal: 2.91s\tremaining: 1.64s\n",
      "64:\tlearn: 1821.5776349\ttotal: 2.96s\tremaining: 1.59s\n",
      "65:\tlearn: 1818.6799727\ttotal: 3s\tremaining: 1.55s\n",
      "66:\tlearn: 1816.8425131\ttotal: 3.05s\tremaining: 1.5s\n",
      "67:\tlearn: 1815.0988247\ttotal: 3.1s\tremaining: 1.46s\n",
      "68:\tlearn: 1813.1561902\ttotal: 3.14s\tremaining: 1.41s\n",
      "69:\tlearn: 1810.8897441\ttotal: 3.19s\tremaining: 1.37s\n",
      "70:\tlearn: 1809.0365066\ttotal: 3.24s\tremaining: 1.32s\n",
      "71:\tlearn: 1807.9322132\ttotal: 3.28s\tremaining: 1.27s\n",
      "72:\tlearn: 1806.5165216\ttotal: 3.33s\tremaining: 1.23s\n",
      "73:\tlearn: 1805.2171572\ttotal: 3.37s\tremaining: 1.18s\n",
      "74:\tlearn: 1803.2483937\ttotal: 3.42s\tremaining: 1.14s\n",
      "75:\tlearn: 1802.4466544\ttotal: 3.46s\tremaining: 1.09s\n",
      "76:\tlearn: 1800.2592341\ttotal: 3.51s\tremaining: 1.05s\n",
      "77:\tlearn: 1798.9476241\ttotal: 3.55s\tremaining: 1s\n",
      "78:\tlearn: 1797.7169914\ttotal: 3.6s\tremaining: 957ms\n",
      "79:\tlearn: 1796.0337815\ttotal: 3.65s\tremaining: 913ms\n",
      "80:\tlearn: 1793.5844974\ttotal: 3.7s\tremaining: 868ms\n",
      "81:\tlearn: 1792.3634258\ttotal: 3.75s\tremaining: 822ms\n",
      "82:\tlearn: 1791.2130617\ttotal: 3.79s\tremaining: 776ms\n",
      "83:\tlearn: 1789.3215786\ttotal: 3.83s\tremaining: 731ms\n",
      "84:\tlearn: 1788.2232830\ttotal: 3.88s\tremaining: 684ms\n",
      "85:\tlearn: 1786.6550899\ttotal: 3.92s\tremaining: 638ms\n",
      "86:\tlearn: 1785.7106055\ttotal: 3.96s\tremaining: 592ms\n",
      "87:\tlearn: 1784.7029530\ttotal: 4.01s\tremaining: 546ms\n",
      "88:\tlearn: 1783.7041274\ttotal: 4.05s\tremaining: 500ms\n",
      "89:\tlearn: 1782.2035812\ttotal: 4.09s\tremaining: 455ms\n",
      "90:\tlearn: 1781.1653150\ttotal: 4.13s\tremaining: 409ms\n",
      "91:\tlearn: 1780.1344844\ttotal: 4.17s\tremaining: 363ms\n",
      "92:\tlearn: 1778.5982671\ttotal: 4.22s\tremaining: 317ms\n",
      "93:\tlearn: 1777.1924339\ttotal: 4.26s\tremaining: 272ms\n",
      "94:\tlearn: 1776.0318006\ttotal: 4.31s\tremaining: 227ms\n",
      "95:\tlearn: 1774.7724768\ttotal: 4.36s\tremaining: 182ms\n",
      "96:\tlearn: 1773.6530131\ttotal: 4.4s\tremaining: 136ms\n",
      "97:\tlearn: 1771.9421325\ttotal: 4.45s\tremaining: 90.8ms\n",
      "98:\tlearn: 1769.6094916\ttotal: 4.49s\tremaining: 45.4ms\n",
      "99:\tlearn: 1768.6142136\ttotal: 4.53s\tremaining: 0us\n",
      "0:\tlearn: 2928.2395467\ttotal: 49.1ms\tremaining: 4.86s\n",
      "1:\tlearn: 2509.2562876\ttotal: 99ms\tremaining: 4.85s\n",
      "2:\tlearn: 2350.8368205\ttotal: 149ms\tremaining: 4.82s\n",
      "3:\tlearn: 2259.0073576\ttotal: 196ms\tremaining: 4.71s\n",
      "4:\tlearn: 2208.9414953\ttotal: 242ms\tremaining: 4.6s\n",
      "5:\tlearn: 2178.7901448\ttotal: 282ms\tremaining: 4.42s\n",
      "6:\tlearn: 2133.9077040\ttotal: 337ms\tremaining: 4.48s\n",
      "7:\tlearn: 2114.4654014\ttotal: 390ms\tremaining: 4.49s\n",
      "8:\tlearn: 2092.1760936\ttotal: 435ms\tremaining: 4.39s\n",
      "9:\tlearn: 2072.4204759\ttotal: 484ms\tremaining: 4.36s\n",
      "10:\tlearn: 2061.6664071\ttotal: 527ms\tremaining: 4.27s\n",
      "11:\tlearn: 2047.5902996\ttotal: 573ms\tremaining: 4.2s\n",
      "12:\tlearn: 2034.0607720\ttotal: 621ms\tremaining: 4.16s\n",
      "13:\tlearn: 2025.5155880\ttotal: 662ms\tremaining: 4.07s\n",
      "14:\tlearn: 2008.7536454\ttotal: 709ms\tremaining: 4.02s\n",
      "15:\tlearn: 1998.8068215\ttotal: 754ms\tremaining: 3.96s\n",
      "16:\tlearn: 1994.0210785\ttotal: 793ms\tremaining: 3.87s\n",
      "17:\tlearn: 1987.7295859\ttotal: 833ms\tremaining: 3.79s\n",
      "18:\tlearn: 1978.1809019\ttotal: 875ms\tremaining: 3.73s\n",
      "19:\tlearn: 1968.8603464\ttotal: 921ms\tremaining: 3.68s\n",
      "20:\tlearn: 1964.7301149\ttotal: 961ms\tremaining: 3.62s\n",
      "21:\tlearn: 1958.4203823\ttotal: 1.01s\tremaining: 3.59s\n",
      "22:\tlearn: 1951.8110768\ttotal: 1.05s\tremaining: 3.54s\n",
      "23:\tlearn: 1946.8589586\ttotal: 1.1s\tremaining: 3.48s\n",
      "24:\tlearn: 1942.0958692\ttotal: 1.15s\tremaining: 3.45s\n",
      "25:\tlearn: 1938.7048056\ttotal: 1.2s\tremaining: 3.41s\n",
      "26:\tlearn: 1934.6328325\ttotal: 1.24s\tremaining: 3.34s\n",
      "27:\tlearn: 1930.9775812\ttotal: 1.28s\tremaining: 3.29s\n",
      "28:\tlearn: 1926.2186305\ttotal: 1.32s\tremaining: 3.24s\n",
      "29:\tlearn: 1922.2259836\ttotal: 1.37s\tremaining: 3.19s\n",
      "30:\tlearn: 1917.2731374\ttotal: 1.42s\tremaining: 3.17s\n",
      "31:\tlearn: 1912.2977374\ttotal: 1.47s\tremaining: 3.13s\n",
      "32:\tlearn: 1907.8995282\ttotal: 1.52s\tremaining: 3.09s\n",
      "33:\tlearn: 1904.1521002\ttotal: 1.56s\tremaining: 3.03s\n",
      "34:\tlearn: 1899.9418299\ttotal: 1.61s\tremaining: 2.99s\n",
      "35:\tlearn: 1895.1350818\ttotal: 1.65s\tremaining: 2.94s\n",
      "36:\tlearn: 1890.7609963\ttotal: 1.7s\tremaining: 2.89s\n",
      "37:\tlearn: 1888.1133175\ttotal: 1.74s\tremaining: 2.84s\n",
      "38:\tlearn: 1885.2401713\ttotal: 1.78s\tremaining: 2.79s\n",
      "39:\tlearn: 1881.9013913\ttotal: 1.82s\tremaining: 2.73s\n",
      "40:\tlearn: 1878.7663232\ttotal: 1.87s\tremaining: 2.69s\n",
      "41:\tlearn: 1875.9884222\ttotal: 1.91s\tremaining: 2.64s\n",
      "42:\tlearn: 1872.4451300\ttotal: 1.96s\tremaining: 2.59s\n",
      "43:\tlearn: 1871.2162913\ttotal: 2s\tremaining: 2.54s\n",
      "44:\tlearn: 1869.1192194\ttotal: 2.04s\tremaining: 2.5s\n",
      "45:\tlearn: 1866.6575301\ttotal: 2.09s\tremaining: 2.46s\n",
      "46:\tlearn: 1864.1765347\ttotal: 2.14s\tremaining: 2.41s\n",
      "47:\tlearn: 1861.7137970\ttotal: 2.18s\tremaining: 2.37s\n",
      "48:\tlearn: 1859.3471558\ttotal: 2.24s\tremaining: 2.33s\n",
      "49:\tlearn: 1855.7946164\ttotal: 2.29s\tremaining: 2.29s\n",
      "50:\tlearn: 1854.2250875\ttotal: 2.34s\tremaining: 2.25s\n",
      "51:\tlearn: 1849.6520652\ttotal: 2.39s\tremaining: 2.21s\n",
      "52:\tlearn: 1847.0941252\ttotal: 2.43s\tremaining: 2.15s\n",
      "53:\tlearn: 1844.8641336\ttotal: 2.48s\tremaining: 2.11s\n",
      "54:\tlearn: 1842.1444342\ttotal: 2.53s\tremaining: 2.07s\n",
      "55:\tlearn: 1839.0009957\ttotal: 2.58s\tremaining: 2.03s\n",
      "56:\tlearn: 1836.6447144\ttotal: 2.62s\tremaining: 1.98s\n",
      "57:\tlearn: 1834.6294630\ttotal: 2.67s\tremaining: 1.93s\n",
      "58:\tlearn: 1832.7825010\ttotal: 2.72s\tremaining: 1.89s\n",
      "59:\tlearn: 1831.3681158\ttotal: 2.76s\tremaining: 1.84s\n",
      "60:\tlearn: 1830.0345598\ttotal: 2.81s\tremaining: 1.8s\n",
      "61:\tlearn: 1827.9561234\ttotal: 2.85s\tremaining: 1.75s\n",
      "62:\tlearn: 1826.3073863\ttotal: 2.9s\tremaining: 1.7s\n",
      "63:\tlearn: 1823.4593986\ttotal: 2.94s\tremaining: 1.65s\n",
      "64:\tlearn: 1821.5776349\ttotal: 2.98s\tremaining: 1.61s\n",
      "65:\tlearn: 1818.6799727\ttotal: 3.03s\tremaining: 1.56s\n",
      "66:\tlearn: 1816.8425131\ttotal: 3.07s\tremaining: 1.51s\n",
      "67:\tlearn: 1815.0988247\ttotal: 3.13s\tremaining: 1.47s\n",
      "68:\tlearn: 1813.1561902\ttotal: 3.17s\tremaining: 1.42s\n",
      "69:\tlearn: 1810.8897441\ttotal: 3.22s\tremaining: 1.38s\n",
      "70:\tlearn: 1809.0365066\ttotal: 3.27s\tremaining: 1.33s\n",
      "71:\tlearn: 1807.9322132\ttotal: 3.31s\tremaining: 1.29s\n",
      "72:\tlearn: 1806.5165216\ttotal: 3.36s\tremaining: 1.24s\n",
      "73:\tlearn: 1805.2171572\ttotal: 3.4s\tremaining: 1.2s\n",
      "74:\tlearn: 1803.2483937\ttotal: 3.45s\tremaining: 1.15s\n",
      "75:\tlearn: 1802.4466544\ttotal: 3.5s\tremaining: 1.1s\n",
      "76:\tlearn: 1800.2592341\ttotal: 3.54s\tremaining: 1.06s\n",
      "77:\tlearn: 1798.9476241\ttotal: 3.59s\tremaining: 1.01s\n",
      "78:\tlearn: 1797.7169914\ttotal: 3.64s\tremaining: 967ms\n",
      "79:\tlearn: 1796.0337815\ttotal: 3.69s\tremaining: 923ms\n",
      "80:\tlearn: 1793.5844974\ttotal: 3.74s\tremaining: 877ms\n",
      "81:\tlearn: 1792.3634258\ttotal: 3.78s\tremaining: 830ms\n",
      "82:\tlearn: 1791.2130617\ttotal: 3.83s\tremaining: 784ms\n",
      "83:\tlearn: 1789.3215786\ttotal: 3.87s\tremaining: 738ms\n",
      "84:\tlearn: 1788.2232830\ttotal: 3.92s\tremaining: 691ms\n",
      "85:\tlearn: 1786.6550899\ttotal: 3.96s\tremaining: 644ms\n",
      "86:\tlearn: 1785.7106055\ttotal: 4s\tremaining: 598ms\n",
      "87:\tlearn: 1784.7029530\ttotal: 4.04s\tremaining: 551ms\n",
      "88:\tlearn: 1783.7041274\ttotal: 4.08s\tremaining: 505ms\n",
      "89:\tlearn: 1782.2035812\ttotal: 4.13s\tremaining: 459ms\n",
      "90:\tlearn: 1781.1653150\ttotal: 4.17s\tremaining: 412ms\n",
      "91:\tlearn: 1780.1344844\ttotal: 4.21s\tremaining: 366ms\n",
      "92:\tlearn: 1778.5982671\ttotal: 4.25s\tremaining: 320ms\n",
      "93:\tlearn: 1777.1924339\ttotal: 4.3s\tremaining: 274ms\n",
      "94:\tlearn: 1776.0318006\ttotal: 4.34s\tremaining: 228ms\n",
      "95:\tlearn: 1774.7724768\ttotal: 4.39s\tremaining: 183ms\n",
      "96:\tlearn: 1773.6530131\ttotal: 4.44s\tremaining: 137ms\n",
      "97:\tlearn: 1771.9421325\ttotal: 4.49s\tremaining: 91.5ms\n",
      "98:\tlearn: 1769.6094916\ttotal: 4.53s\tremaining: 45.7ms\n",
      "99:\tlearn: 1768.6142136\ttotal: 4.57s\tremaining: 0us\n",
      "6.51 s ± 28.1 ms per loop (mean ± std. dev. of 5 runs, 1 loop each)\n"
     ]
    }
   ],
   "source": [
    "%%timeit -r 5\n",
    "cbr_model = CatBoostRegressor(iterations=100, learning_rate=0.7, random_state=759638)\n",
    "cbr_model.fit(features_train, target_train)"
   ]
  },
  {
   "cell_type": "code",
   "execution_count": 113,
   "metadata": {},
   "outputs": [
    {
     "name": "stdout",
     "output_type": "stream",
     "text": [
      "47.4 ms ± 1.22 ms per loop (mean ± std. dev. of 5 runs, 10 loops each)\n"
     ]
    }
   ],
   "source": [
    "%%timeit -r 5\n",
    "cbr_prediction_valid = cbr_model.predict(features_valid)\n",
    "cbr_RMSE_valid = mean_squared_error(target_valid, cbr_prediction_valid, squared=False)"
   ]
  },
  {
   "cell_type": "code",
   "execution_count": 114,
   "metadata": {},
   "outputs": [
    {
     "name": "stdout",
     "output_type": "stream",
     "text": [
      "CatBoost Regressor:\n",
      "Learning Rate: 0.7\n",
      "Validation data RMSE: 1824.6818586154889\n",
      "Test data RMSE: 1829.6451823152663\n",
      "Model training time: 6.51 s ± 28.1 ms per loop (mean ± std. dev. of 5 runs, 1 loop each)\n",
      "Model evaluation time: 47.4 ms ± 1.22 ms per loop (mean ± std. dev. of 5 runs, 10 loops each)\n"
     ]
    }
   ],
   "source": [
    "print(\"CatBoost Regressor:\")\n",
    "print(\"Learning Rate: 0.7\")\n",
    "print(\"Validation data RMSE:\", cbr_RMSE_valid)\n",
    "print(\"Test data RMSE:\", cbr_RMSE)\n",
    "print(\"Model training time: 6.51 s ± 28.1 ms per loop (mean ± std. dev. of 5 runs, 1 loop each)\")\n",
    "print(\"Model evaluation time: 47.4 ms ± 1.22 ms per loop (mean ± std. dev. of 5 runs, 10 loops each)\")"
   ]
  },
  {
   "cell_type": "markdown",
   "metadata": {},
   "source": [
    "<div class=\"alert alert-danger\">\n",
    "<s><b>Reviewer's comment</b>\n",
    "\n",
    "It's great that you tried different models, tuned their hyperparameters and measured the time it takes to train and evaluate the model. There is one problem though: you used the train set scores to tune hyperparameters, which makes no sense. Train set score tells us nothing about how well the model generalizes to new data, only how well it memorized the train set. We can't use the test set either, as it is used to evaluate the final model. There are two options: use a separate validation set or use cross-validation for hyperparameter tuning\n",
    "\n",
    "</div>"
   ]
  },
  {
   "cell_type": "markdown",
   "metadata": {},
   "source": [
    "<div class=\"alert alert-info\">\n",
    "I went with creating a validation set reather than creating a new scorer for RMSE to be used with cross validation - I'm fairly certain that cross validation would yield better results - but as I see this as more of a theoretical examination of the benefits of gradiant boosting with models, this was the more simple way to correct my previous oversights.\n",
    "\n",
    "I retuned hyperparameters for the models and adjusted the results below along with my conlcusion to reflect the changes. I also timed the training of the models and the evaluation seperately as you suggested after the analysis.\n",
    "</div>"
   ]
  },
  {
   "cell_type": "markdown",
   "metadata": {},
   "source": [
    "<div class=\"alert alert-success\">\n",
    "<b>Reviewer's comment V2</b>\n",
    "\n",
    "It's fine to use a validation set here, as we have enough data :)\n",
    "    \n",
    "Cross-validation can be better in a sense that it can work with less data, and it can estimate not just the metric, but also its variance.\n",
    "    \n",
    "> I retuned hyperparameters for the models and adjusted the results below along with my conlcusion to reflect the changes. I also timed the training of the models and the evaluation seperately as you suggested after the analysis.\n",
    "    \n",
    "Awesome! \n",
    "\n",
    "</div>"
   ]
  },
  {
   "cell_type": "markdown",
   "metadata": {},
   "source": [
    "## Model analysis"
   ]
  },
  {
   "cell_type": "markdown",
   "metadata": {},
   "source": [
    "**Linear Regression model:**\n",
    "\n",
    "Validation data RMSE: 3267.256234555461\n",
    "\n",
    "Test data RMSE: 3268.418536679359\n",
    "\n",
    "Model training time: 20.9 s ± 171 ms per loop (mean ± std. dev. of 5 runs, 1 loop each)\n",
    "\n",
    "Model evaluation time: 200 ms ± 1.02 ms per loop (mean ± std. dev. of 5 runs, 10 loops each)\n",
    "\n",
    "\n",
    "**Decision Tree Regressor model:**\n",
    "\n",
    "Depth: 85\n",
    "\n",
    "Validation data RMSE: 2123.7956299915595\n",
    "\n",
    "Test data RMSE: 2124.4425812318923\n",
    "\n",
    "Model training time: 8.06 s ± 72.6 ms per loop (mean ± std. dev. of 5 runs, 1 loop each)\n",
    "\n",
    "Model evaluation time: 115 ms ± 1.88 ms per loop (mean ± std. dev. of 5 runs, 10 loops each)\n",
    "\n",
    "\n",
    "**Random Forest Regressor model:**\n",
    "\n",
    "Estimators: 94\n",
    "\n",
    "Depth: 28\n",
    "\n",
    "Validation data RMSE: 1763.309152866489\n",
    "\n",
    "Test data RMSE: 1763.767514478163\n",
    "\n",
    "Model training time: 2min 13s ± 1.76 s per loop (mean ± std. dev. of 5 runs, 1 loop each)\n",
    "\n",
    "Model evaluation time: 2.77 s ± 34.5 ms per loop (mean ± std. dev. of 5 runs, 1 loop each)\n",
    "\n",
    "\n",
    "**Gradiant Boost Decision Tree:**\n",
    "\n",
    "Leaves: 100\n",
    "\n",
    "Maximum Depth: Unlimited\n",
    "\n",
    "Learning Rate: 0.3\n",
    "\n",
    "Maximum estimators: 100\n",
    "\n",
    "Validation data RMSE: 1738.2845762747445\n",
    "\n",
    "Test data RMSE: 1740.3174084649806\n",
    "\n",
    "Model training time: 8.08 s ± 244 ms per loop (mean ± std. dev. of 5 runs, 1 loop each)\n",
    "\n",
    "Model evaluation time: 1.03 s ± 26.9 ms per loop (mean ± std. dev. of 5 runs, 1 loop each)\n",
    "\n",
    "\n",
    "**CatBoost Regressor:**\n",
    "\n",
    "Learning Rate: 0.7\n",
    "\n",
    "Validation data RMSE: 1824.6818586154889\n",
    "\n",
    "Test data RMSE: 1829.6451823152663\n",
    "\n",
    "Model training time: 6.51 s ± 28.1 ms per loop (mean ± std. dev. of 5 runs, 1 loop each)\n",
    "\n",
    "Model evaluation time: 47.4 ms ± 1.22 ms per loop (mean ± std. dev. of 5 runs, 10 loops each)"
   ]
  },
  {
   "cell_type": "markdown",
   "metadata": {},
   "source": [
    "Using the *Linear Regression* model as our sanity check - the baseline for our RMSE is rounded to `3268.4` on the test data, and training time of 20.9 seconds on average with a model evaluation time of 200 milliseconds on average. The best performing non-gradiant boosted model, with extensive time spent tuning hyperparameters, was the *Random Forest Regressor* model resulting in a rounded RMSE of `1763.7` on the test data, with an average training time of 2 minutes 13 seconds and average evaluation time of 2.77 seconds of average. The *Decision Tree Regressor* model with a rounded RMSE of `2124.4` on the test data, an average training time of 8.06 seconds, and average evaluation time of 115 milliseconds, represented a faster model than the previous two but scored worse than the Random Forest Regressor.\n",
    "\n",
    "The gradiant boosted models we created resulted in the best choice when accuracy and processing time is taken into consideration. The *Gradiant Boost Decision Tree* model utilizing the Light GBM library, which resulted in a rounded RMSE of `1740.3` on the test data, average training time of 8.008 seconds, and and an average evaluation time of 1.03 seconds. The CatBoost Regressor, which resulted in a rounded RMSE of `1829.6` on the test data, with average training time of 6.51 seconds, and average evaluation time of 47.4 milliseconds. The gradiant boosted models are the ideal candidates for use - the decision would depend on whether accuracy or speed was the greater desire, though the Gradiant Boost Decision Tree model utilizing the LightGBM library isn't much slower than the CatBoost Regressor model with greater accuracy overall."
   ]
  },
  {
   "cell_type": "markdown",
   "metadata": {},
   "source": [
    "<div class=\"alert alert-warning\">\n",
    "<b>Reviewer's comment</b>\n",
    "\n",
    "Conclusions look good. One possible improvement would be to separately measure training and prediction time.\n",
    "\n",
    "</div>"
   ]
  },
  {
   "cell_type": "markdown",
   "metadata": {},
   "source": [
    "<div class=\"alert alert-info\">\n",
    "Hopefully I made all the appropriate improvements. The models have had hyperparameters retuned, and the conclusion has been altered.\n",
    "</div>"
   ]
  },
  {
   "cell_type": "markdown",
   "metadata": {},
   "source": [
    "<div class=\"alert alert-success\">\n",
    "<b>Reviewer's comment V2</b>\n",
    "\n",
    "Yep, well done! Here we can note that training time is probably less important than prediction time (for example, as the new model is trained the old one can just keep running, but prediction time affects throughput)\n",
    "\n",
    "</div>"
   ]
  },
  {
   "cell_type": "markdown",
   "metadata": {},
   "source": [
    "# Checklist"
   ]
  },
  {
   "cell_type": "markdown",
   "metadata": {},
   "source": [
    "Type 'x' to check. Then press Shift+Enter."
   ]
  },
  {
   "cell_type": "markdown",
   "metadata": {},
   "source": [
    "- [x]  Jupyter Notebook is open\n",
    "- [x]  Code is error free\n",
    "- [x]  The cells with the code have been arranged in order of execution\n",
    "- [x]  The data has been downloaded and prepared\n",
    "- [x]  The models have been trained\n",
    "- [x]  The analysis of speed and quality of the models has been performed"
   ]
  },
  {
   "cell_type": "code",
   "execution_count": null,
   "metadata": {},
   "outputs": [],
   "source": []
  }
 ],
 "metadata": {
  "kernelspec": {
   "display_name": "Python 3 (ipykernel)",
   "language": "python",
   "name": "python3"
  },
  "language_info": {
   "codemirror_mode": {
    "name": "ipython",
    "version": 3
   },
   "file_extension": ".py",
   "mimetype": "text/x-python",
   "name": "python",
   "nbconvert_exporter": "python",
   "pygments_lexer": "ipython3",
   "version": "3.9.5"
  },
  "toc": {
   "base_numbering": 1,
   "nav_menu": {},
   "number_sections": true,
   "sideBar": true,
   "skip_h1_title": true,
   "title_cell": "Table of Contents",
   "title_sidebar": "Contents",
   "toc_cell": false,
   "toc_position": {
    "height": "calc(100% - 180px)",
    "left": "10px",
    "top": "150px",
    "width": "292.475px"
   },
   "toc_section_display": true,
   "toc_window_display": true
  }
 },
 "nbformat": 4,
 "nbformat_minor": 2
}
